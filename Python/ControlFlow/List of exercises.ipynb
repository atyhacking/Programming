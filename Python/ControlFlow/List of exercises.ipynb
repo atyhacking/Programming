{
 "cells": [
  {
   "cell_type": "markdown",
   "metadata": {},
   "source": [
    "# Control Flow exercises"
   ]
  },
  {
   "cell_type": "markdown",
   "metadata": {},
   "source": [
    "## 1. Detecting Malicious Activity in Network Traffic\n",
    "\n",
    "*Problem:*\n",
    "You are monitoring network traffic and must flag IP addresses that show suspicious activity. You have two lists:\n",
    "\n",
    "* allowed_ips: IP addresses that are known to be safe.\n",
    "* suspicious_activity: A list of IP addresses and the number of suspicious packets detected from that IP.\n",
    "\n",
    "Your task is to check each IP from the suspicious_activity list. If an IP is not in allowed_ips and has more than 3 suspicious packets, print that the IP needs further investigation."
   ]
  },
  {
   "cell_type": "code",
   "execution_count": 15,
   "metadata": {
    "trusted": true
   },
   "outputs": [
    {
     "name": "stdout",
     "output_type": "stream",
     "text": [
      "Ip 192.168.0.2 needs further investigation, : 5 suspicious packets\n",
      "Ip 192.168.0.3 needs further investigation, : 4 suspicious packets\n",
      "Ip 203.0.113.5 needs further investigation, : 7 suspicious packets\n"
     ]
    }
   ],
   "source": [
    "# Hardcoded lists\n",
    "allowed_ips = [\"192.168.0.1\", \"10.0.0.1\", \"172.16.0.1\"]\n",
    "suspicious_activity = [\n",
    "    {\"ip\": \"192.168.0.2\", \"suspicious_packets\": 5},\n",
    "    {\"ip\": \"10.0.0.1\", \"suspicious_packets\": 2},\n",
    "    {\"ip\": \"192.168.0.3\", \"suspicious_packets\": 4},\n",
    "    {\"ip\": \"172.16.0.1\", \"suspicious_packets\": 1},\n",
    "    {\"ip\": \"203.0.113.5\", \"suspicious_packets\": 7}\n",
    "]\n",
    "\n",
    "# Solution\n",
    "for activity in suspicious_activity:\n",
    "    ip = activity[\"ip\"]\n",
    "    suspicious_packets = activity[\"suspicious_packets\"]\n",
    "    if ip not in allowed_ips and suspicious_packets >3:\n",
    "        print(f\"Ip {ip} needs further investigation, : {suspicious_packets} suspicious packets\")\n"
   ]
  },
  {
   "cell_type": "raw",
   "metadata": {},
   "source": [
    "Expected output:\n",
    "IP 192.168.0.2 needs further investigation: 5 suspicious packets.\n",
    "IP 192.168.0.3 needs further investigation: 4 suspicious packets.\n",
    "IP 203.0.113.5 needs further investigation: 7 suspicious packets."
   ]
  },
  {
   "cell_type": "markdown",
   "metadata": {},
   "source": [
    "## 2. Counting Failed Login Attempts\n",
    "\n",
    "You are analyzing a list of login attempts where 0 represents a failed attempt and 1 represents a successful login. The system should flag any user after 3 consecutive failed login attempts.\n",
    "\n",
    "Count how many users should be flagged based on their login attempts."
   ]
  },
  {
   "cell_type": "code",
   "execution_count": 142,
   "metadata": {
    "trusted": true
   },
   "outputs": [
    {
     "name": "stdout",
     "output_type": "stream",
     "text": [
      "Number of flagged users: 2\n"
     ]
    }
   ],
   "source": [
    "# Hardcoded login attempts: 0 = fail, 1 = success\n",
    "login_attempts = [\n",
    "    [1, 0, 0, 1, 0, 0, 0],  # User 1\n",
    "    [0, 1, 1],              # User 2\n",
    "    [0, 0, 0, 0],           # User 3\n",
    "    [0, 1, 0, 0],           # User 4\n",
    "]\n",
    "\n",
    "# Solution\n",
    "flagged = 0\n",
    "for user in login_attempts:\n",
    "    contador = 0\n",
    "    for attempt in user:\n",
    "        if attempt == 1:\n",
    "            contador = 0\n",
    "        else:\n",
    "            contador += 1\n",
    "        if contador == 3:\n",
    "            flagged += 1\n",
    "            break\n",
    "if flagged == 0:\n",
    "    print(\"No ha habido incidencias\")\n",
    "else:\n",
    "    print(f\"Number of flagged users: {flagged}\")\n",
    "\n",
    "\n",
    "#Recomano repetir per practicar <------------------------------------"
   ]
  },
  {
   "cell_type": "raw",
   "metadata": {},
   "source": [
    "Expected output \n",
    "Number of flagged users: 2"
   ]
  },
  {
   "cell_type": "markdown",
   "metadata": {},
   "source": [
    "## 3. Firewall Rule Matching\n",
    "\n",
    "A firewall is configured to block traffic based on specific rules. The firewall logs contain packet information, and the rules are simple:\n",
    "\n",
    "* If a packet contains the word \"attack\", block the traffic.\n",
    "* If a packet contains the word \"malware\", block the traffic.\n",
    "* If no dangerous words are found, the traffic is allowed.\n",
    "  \n",
    "Go through a list of packets and print whether the traffic should be blocked or allowed."
   ]
  },
  {
   "cell_type": "code",
   "execution_count": 2,
   "metadata": {
    "trusted": true
   },
   "outputs": [
    {
     "name": "stdout",
     "output_type": "stream",
     "text": [
      "Packet allowed: GET /index.html\n",
      "Packet blocked: malware detected in POST request\n",
      "Packet allowed: Checking for updates\n",
      "Packet blocked: Potential attack detected in payload\n",
      "Packet allowed: Normal traffic\n"
     ]
    }
   ],
   "source": [
    "# Packet data\n",
    "packet_log = [\n",
    "    \"GET /index.html\",\n",
    "    \"malware detected in POST request\",\n",
    "    \"Checking for updates\",\n",
    "    \"Potential attack detected in payload\",\n",
    "    \"Normal traffic\"\n",
    "]\n",
    "\n",
    "# Solution\n",
    "for packet in packet_log:\n",
    "    if \"malware\" in packet.lower() or \"attack\" in packet.lower():\n",
    "        print(f\"Packet blocked: {packet}\")\n",
    "    else:\n",
    "        print(f\"Packet allowed: {packet}\")"
   ]
  },
  {
   "cell_type": "raw",
   "metadata": {},
   "source": [
    "Expected output: \n",
    "Packet allowed: GET /index.html\n",
    "Packet blocked: malware detected in POST request\n",
    "Packet allowed: Checking for updates\n",
    "Packet blocked: Potential attack detected in payload\n",
    "Packet allowed: Normal traffic"
   ]
  },
  {
   "cell_type": "markdown",
   "metadata": {},
   "source": [
    "## 4. Detecting Repeated Unauthorized Access Attempts\n",
    "\n",
    "You are monitoring a log of unauthorized access attempts. If an IP address attempts to access the system more than 3 times, it should be flagged. You are given a list of IP addresses, where each entry represents one access attempt.\n",
    "\n",
    "Count how many IP addresses should be flagged based on the number of attempts."
   ]
  },
  {
   "cell_type": "code",
   "execution_count": 3,
   "metadata": {
    "trusted": true
   },
   "outputs": [
    {
     "name": "stdout",
     "output_type": "stream",
     "text": [
      "Number of flagged IPs: 1\n"
     ]
    }
   ],
   "source": [
    "# Hardcoded log of access attempts\n",
    "access_attempts = [\n",
    "    \"192.168.0.1\", \"192.168.0.1\", \"192.168.0.2\", \"192.168.0.1\",\n",
    "    \"192.168.0.2\", \"192.168.0.2\", \"192.168.0.3\", \"192.168.0.3\", \"192.168.0.2\"\n",
    "]\n",
    "\n",
    "# Dictionary to count occurrences of each IP\n",
    "ip_count = {}\n",
    "\n",
    "# Count the occurrences of each IP address\n",
    "for ip in access_attempts:\n",
    "    if ip in ip_count:\n",
    "        ip_count[ip] += 1\n",
    "    else:\n",
    "        ip_count[ip] = 1\n",
    "\n",
    "# Count how many IPs exceed the threshold of 3 attempts\n",
    "flagged_ips_count = sum(1 for count in ip_count.values() if count > 3)\n",
    "\n",
    "# Output the result\n",
    "print(f\"Number of flagged IPs: {flagged_ips_count}\")\n",
    "\n",
    "#HECHO POR EL CHAT ESTE NO LO HE PODIDO RESOLVER!!!!!!!!!!!!!!!!!!!!!!!! <------------------------"
   ]
  },
  {
   "cell_type": "raw",
   "metadata": {},
   "source": [
    "Expected output\n",
    "\n",
    "Number of flagged IPs: 1"
   ]
  },
  {
   "cell_type": "markdown",
   "metadata": {},
   "source": [
    "## 5. Password Strength Checker\n",
    "\n",
    "You are given a list of passwords and must categorize them based on their strength. The criteria are:\n",
    "\n",
    "* *Weak:* Passwords less than 6 characters.\n",
    "* *Medium:* Passwords between 6 and 10 characters.\n",
    "* *Strong:* Passwords longer than 10 characters.\n",
    "  \n",
    "Print how many passwords fall into each category."
   ]
  },
  {
   "cell_type": "code",
   "execution_count": 4,
   "metadata": {
    "trusted": true
   },
   "outputs": [
    {
     "name": "stdout",
     "output_type": "stream",
     "text": [
      "Weak password: 2\n",
      "Medium password: 2\n",
      "Strong password: 2\n"
     ]
    }
   ],
   "source": [
    "# Hardcoded list of passwords\n",
    "passwords = [\"123\", \"password\", \"strongpassword123\", \"qwerty\", \"admin\", \"ilovecoding12345\"]\n",
    "# Solution\n",
    "weak = 0\n",
    "medium = 0\n",
    "strong = 0\n",
    "for element in passwords:\n",
    "    char = len(element)\n",
    "    if char < 6:\n",
    "        weak += 1\n",
    "    elif char >= 6 and char <= 10:\n",
    "        medium += 1\n",
    "    elif char > 10:\n",
    "        strong += 1\n",
    "print(f\"Weak password: {weak}\")\n",
    "print(f\"Medium password: {medium}\")\n",
    "print(f\"Strong password: {strong}\")\n"
   ]
  },
  {
   "cell_type": "raw",
   "metadata": {},
   "source": [
    "Expected output \n",
    "Weak passwords: 2\n",
    "Medium passwords: 2\n",
    "Strong passwords: 2"
   ]
  },
  {
   "cell_type": "markdown",
   "metadata": {},
   "source": [
    "## 6. Log Analysis: Detecting Suspicious Activity Patterns\n",
    "\n",
    "You are given a series of network logs with different types of activity. If a log entry contains any of the following suspicious words—\"error\", \"failure\", or \"denied\"—it should be flagged for further review. Count how many logs need further review."
   ]
  },
  {
   "cell_type": "code",
   "execution_count": 5,
   "metadata": {
    "trusted": true
   },
   "outputs": [
    {
     "name": "stdout",
     "output_type": "stream",
     "text": [
      "Number of logs flagged for review: 4\n"
     ]
    }
   ],
   "source": [
    "# Hardcoded network logs\n",
    "logs = [\n",
    "    \"User login successful\",\n",
    "    \"Access denied on port 22\",\n",
    "    \"System error: disk full\",\n",
    "    \"User login failure\",\n",
    "    \"Normal activity detected\",\n",
    "    \"Permission denied for user\"\n",
    "]\n",
    "\n",
    "# Solution\n",
    "flagged = 0\n",
    "for element in logs:\n",
    "    if \"error\" in element or \"failure\" in element or \"denied\" in element:\n",
    "        flagged += 1\n",
    "print(f\"Number of logs flagged for review: {flagged}\")        \n"
   ]
  },
  {
   "cell_type": "raw",
   "metadata": {},
   "source": [
    "Expected output \n",
    "\n",
    "Number of logs flagged for review: 4"
   ]
  },
  {
   "cell_type": "markdown",
   "metadata": {},
   "source": [
    "## 7. Detecting Sequential Failed Login Attempts\n",
    "\n",
    "You are given a list of login attempts where 1 represents a successful login and 0 represents a failed attempt. If a user has 2 consecutive failed attempts followed by a successful login, it should be flagged as suspicious activity.\n",
    "\n",
    "Count how many users show suspicious login behavior."
   ]
  },
  {
   "cell_type": "code",
   "execution_count": 6,
   "metadata": {
    "trusted": true
   },
   "outputs": [
    {
     "name": "stdout",
     "output_type": "stream",
     "text": [
      "Number of users with suspicious login behavior: 2\n"
     ]
    }
   ],
   "source": [
    "# Hardcoded list of login attempts (each list represents one user's attempts)\n",
    "user_attempts = [\n",
    "    [1, 0, 0, 1],      # User 1\n",
    "    [0, 1, 1],         # User 2\n",
    "    [0, 0, 1, 0],      # User 3\n",
    "    [1, 1, 1, 0],      # User 4\n",
    "]\n",
    "# Solution\n",
    "bad_users = 0\n",
    "for user in user_attempts:\n",
    "    contador = 0\n",
    "    for attempt in user:\n",
    "        if attempt == 0 and contador == 0:\n",
    "            contador = 1\n",
    "        elif attempt == 0 and contador == 1:\n",
    "            contador = 2\n",
    "        elif attempt == 1 and contador == 2:\n",
    "            bad_users += 1\n",
    "print(f\"Number of users with suspicious login behavior: {bad_users}\")"
   ]
  },
  {
   "cell_type": "raw",
   "metadata": {},
   "source": [
    "Number of users with suspicious login behavior: 2"
   ]
  }
 ],
 "metadata": {
  "kernelspec": {
   "display_name": "Python 3",
   "language": "python",
   "name": "python3"
  },
  "language_info": {
   "codemirror_mode": {
    "name": "ipython",
    "version": 3
   },
   "file_extension": ".py",
   "mimetype": "text/x-python",
   "name": "python",
   "nbconvert_exporter": "python",
   "pygments_lexer": "ipython3",
   "version": "3.10.12"
  }
 },
 "nbformat": 4,
 "nbformat_minor": 4
}
