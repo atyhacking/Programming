{
 "cells": [
  {
   "cell_type": "markdown",
   "metadata": {},
   "source": [
    "# Exceptions"
   ]
  },
  {
   "cell_type": "markdown",
   "metadata": {},
   "source": [
    "Exception handling ensures your program can handle errors gracefully, preventing crashes and undefined behavior."
   ]
  },
  {
   "cell_type": "markdown",
   "metadata": {},
   "source": [
    "## 1 Understanding Exceptions\n",
    "Exceptions occur when the program encounters an error during execution. Common examples:\n",
    "\n",
    "* FileNotFoundError: Trying to open a file that doesn't exist\n",
    "* ValueError: Invalid value for an operation\n",
    "* ZeroDivisionError: Dividing by zero"
   ]
  },
  {
   "cell_type": "markdown",
   "metadata": {},
   "source": [
    "## 2 The try-except Block\n",
    "\n",
    "The basic structure to handle exceptions is:"
   ]
  },
  {
   "cell_type": "raw",
   "metadata": {},
   "source": [
    "try:\n",
    "    # Code that might raise an exception\n",
    "except ExceptionType (optional):\n",
    "    # Code to handle the exception\")\n"
   ]
  },
  {
   "cell_type": "code",
   "execution_count": 5,
   "metadata": {
    "trusted": true
   },
   "outputs": [
    {
     "name": "stdout",
     "output_type": "stream",
     "text": [
      "An exception occurred\n"
     ]
    }
   ],
   "source": [
    "try:\n",
    "  print(x)\n",
    "except:\n",
    "  print(\"An exception occurred\")"
   ]
  },
  {
   "cell_type": "code",
   "execution_count": 6,
   "metadata": {
    "trusted": true
   },
   "outputs": [
    {
     "name": "stdout",
     "output_type": "stream",
     "text": [
      "File not found! Check the file name or path.\n"
     ]
    }
   ],
   "source": [
    "try:\n",
    "    with open('nonexistent.txt', 'r') as file:\n",
    "        content = file.read()\n",
    "except FileNotFoundError:\n",
    "    print(\"File not found! Check the file name or path.\")\n"
   ]
  },
  {
   "cell_type": "markdown",
   "metadata": {},
   "source": [
    "## Many exceptions"
   ]
  },
  {
   "cell_type": "markdown",
   "metadata": {},
   "source": [
    "You can define as many exception blocks as you want, e.g. if you want to execute a special block of code for a special kind of error:"
   ]
  },
  {
   "cell_type": "code",
   "execution_count": 14,
   "metadata": {
    "trusted": true
   },
   "outputs": [
    {
     "name": "stdout",
     "output_type": "stream",
     "text": [
      "1\n"
     ]
    }
   ],
   "source": [
    "try:\n",
    "    print(x)\n",
    "except NameError:\n",
    "    print(\"Variable x is not defined\")\n",
    "except:\n",
    "    print(\"Something else went wrong\")"
   ]
  },
  {
   "cell_type": "markdown",
   "metadata": {},
   "source": [
    "### Exercise 1: Handling Division by Zero\n",
    "Write a program that performs division between two numbers. Use a try block to catch a ZeroDivisionError if the denominator is zero. Display a custom error message and allow the program to continue.\n",
    "\n",
    "Escribe un programa que realice la división entre dos números. Utilice un bloque try para detectar un ZeroDivisionError si el denominador es cero. Muestra un mensaje de error personalizado y permite que el programa continúe."
   ]
  },
  {
   "cell_type": "code",
   "execution_count": 47,
   "metadata": {
    "trusted": true
   },
   "outputs": [
    {
     "name": "stdout",
     "output_type": "stream",
     "text": [
      "La division da como resultado: 0.6666666666666666\n"
     ]
    }
   ],
   "source": [
    "\n",
    "numero1 = int(input(\"Introduce el dividendo: \"))\n",
    "numero2 = int(input(\"Introduce el divisor: \"))\n",
    "\n",
    "try:    \n",
    "    print(f\"La division da como resultado: {numero1/numero2}\")\n",
    "except ZeroDivisionError as ERROR:\n",
    "    print(f\"Error detallado: {ERROR}\")\n",
    "    print(\"Resumen: Error de division entre zero\")\n",
    "\n",
    "    #Facilito :D"
   ]
  },
  {
   "cell_type": "markdown",
   "metadata": {},
   "source": [
    "### Exercise 2: File Operations with Exception Handling\n",
    "Create a script that:\n",
    "\n",
    "Tries to open a file called data.txt for reading.\n",
    "If the file doesn't exist, catches the FileNotFoundError and displays \"File not found. Please check the file path.\"\n",
    "\n",
    "Cree un script que:\n",
    "\n",
    "Intenta abrir un archivo llamado data.txt para leerlo.\n",
    "Si el archivo no existe, detecta el error FileNotFoundError y muestra \"Archivo no encontrado. Verifique la ruta del archivo\"."
   ]
  },
  {
   "cell_type": "code",
   "execution_count": null,
   "metadata": {
    "trusted": true
   },
   "outputs": [
    {
     "name": "stdout",
     "output_type": "stream",
     "text": [
      "Contenido del archivo /home/aty/UNI-ENTI/Programacio/README.txt:\n",
      "Ejercicios de programacion tanto realizados en clase como en casa\n",
      "\n"
     ]
    }
   ],
   "source": [
    "import os\n",
    "\n",
    "try:\n",
    "    ruta = os.path.expanduser(\"~/UNI-ENTI/Programacio/README.txt\")\n",
    "    with open(ruta, \"r\") as file:\n",
    "        content = file.read()\n",
    "        print(f\"Contenido del archivo {ruta}:\")\n",
    "        print(content)\n",
    "except FileNotFoundError as error:\n",
    "    print(f\"Error detallado: {error}\")\n",
    "    print(\"Resumen: Archivo no encontrado. Verifique la ruta del archivo.\")\n",
    "    #La parte de abrir el archivo he tenido que mirar como se hacia (lo de dentro del try)\n"
   ]
  },
  {
   "cell_type": "markdown",
   "metadata": {},
   "source": [
    "### Exercise 3: Handling Multiple Exceptions\n",
    "Write a program that tries to:\n",
    "\n",
    "Read a number from a list of strings: values = [\"10\", \"20\", \"invalid\", \"30\"].\n",
    "Perform division with a fixed divisor, e.g., 5.\n",
    "Catch both ValueError (if conversion fails) and ZeroDivisionError (if divisor becomes zero).\n",
    "\n",
    "\n",
    "Escribe un programa que intente:\n",
    "\n",
    "Leer un número de una lista de cadenas: valores = [\"10\", \"20\", \"invalid\", \"30\"].\n",
    "Realizar división con un divisor fijo, por ejemplo, 5.\n",
    "Capture tanto ValueError (si falla la conversión) como ZeroDivisionError (si el divisor se vuelve cero)."
   ]
  },
  {
   "cell_type": "code",
   "execution_count": null,
   "metadata": {
    "trusted": true
   },
   "outputs": [
    {
     "name": "stdout",
     "output_type": "stream",
     "text": [
      "2.0\n",
      "4.0\n",
      "Error: No se ha podido dividir por 'invalid' ya que no es un número\n",
      "6.0\n"
     ]
    }
   ],
   "source": [
    "values = [\"10\", \"20\", \"invalid\", \"30\"]\n",
    "for element in values:\n",
    "    try:\n",
    "        print(int(element) / 5) #Esto es importante para que no salga TypeError\n",
    "    except ValueError:\n",
    "        print(f\"Error: No se ha podido dividir por '{element}' ya que no es un número\")\n",
    "    except ZeroDivisionError:\n",
    "        print(f\"Error: No se ha podido dividir ya que el divisor es 0\")"
   ]
  },
  {
   "cell_type": "markdown",
   "metadata": {},
   "source": [
    "### Exercise 4: Type Conversion with Error Handling\n",
    "Write a program that tries to:\n",
    "\n",
    "Convert a list of strings to integers using int(). <br>\n",
    "Use a try block to catch a ValueError if any string cannot be converted. <br>\n",
    "Continue converting the rest of the strings after handling the error. <br>\n",
    "Example list: [\"42\", \"hello\", \"99\", \"world\"] \n",
    "\n",
    "\n",
    "Escribe un programa que intente:\n",
    "\n",
    "Convierta una lista de cadenas a números enteros usando int(). <br>\n",
    "Utilice un bloque try para detectar un ValueError si alguna cadena no se puede convertir. <br>\n",
    "Continúe convirtiendo el resto de las cadenas después de manejar el error. <br>\n",
    "Lista de ejemplo: [\"42\", \"hola\", \"99\", \"mundo\"]"
   ]
  },
  {
   "cell_type": "code",
   "execution_count": 136,
   "metadata": {
    "trusted": true
   },
   "outputs": [
    {
     "name": "stdout",
     "output_type": "stream",
     "text": [
      "Número: 42\n",
      "No se puede pasar 'hello' a int ya que no es un entero\n",
      "Número: 99\n",
      "No se puede pasar 'world' a int ya que no es un entero\n"
     ]
    }
   ],
   "source": [
    "list = [\"42\", \"hello\", \"99\", \"world\"]\n",
    "for element in list:\n",
    "    try:\n",
    "        print(f\"Número: {int(element)}\")\n",
    "    except ValueError:\n",
    "        print(f\"No se puede pasar '{element}' a int ya que no es un entero\")\n",
    "#Facilito"
   ]
  },
  {
   "cell_type": "markdown",
   "metadata": {},
   "source": [
    "### Exercise 5: Nested try Blocks\n",
    "Write a program that:\n",
    "\n",
    "Uses a nested try block to first open a file and then read integers from it. <br>\n",
    "Catches a FileNotFoundError for the outer block (if the file doesn't exist).<br>\n",
    "Catches a ValueError for the inner block (if a line in the file cannot be converted to an integer).<br>\n",
    "Example file (numbers.txt):\n",
    "\n",
    "Escribe un programa que:\n",
    "\n",
    "Utiliza un bloque try anidado para abrir primero un archivo y luego leer números enteros del mismo. <br>\n",
    "Detecta un FileNotFoundError para el bloque externo (si el archivo no existe).<br>\n",
    "Detecta un ValueError para el bloque interno (si una línea del archivo no se puede convertir a un número entero).<br>\n",
    "Archivo de ejemplo (números.txt):"
   ]
  },
  {
   "cell_type": "code",
   "execution_count": null,
   "metadata": {},
   "outputs": [],
   "source": []
  },
  {
   "cell_type": "markdown",
   "metadata": {},
   "source": [
    "Expected behavior:\n",
    "\n",
    "If the file is missing, print: \"The file was not found.\" <br>\n",
    "If any line cannot be converted, print: \"Invalid number found in file: hello.\" Continue processing the remaining lines. <br>"
   ]
  },
  {
   "cell_type": "markdown",
   "metadata": {},
   "source": [
    "## 3 The else Block"
   ]
  },
  {
   "cell_type": "markdown",
   "metadata": {},
   "source": [
    "The else block runs only if no exceptions are raised."
   ]
  },
  {
   "cell_type": "code",
   "execution_count": 149,
   "metadata": {
    "trusted": true
   },
   "outputs": [
    {
     "name": "stdout",
     "output_type": "stream",
     "text": [
      "Hello\n",
      "Nothing went wrong\n"
     ]
    }
   ],
   "source": [
    "try:\n",
    "  print(\"Hello\")\n",
    "except:\n",
    "  print(\"Something went wrong\")\n",
    "else:\n",
    "  print(\"Nothing went wrong\")"
   ]
  },
  {
   "cell_type": "code",
   "execution_count": 150,
   "metadata": {
    "trusted": true
   },
   "outputs": [
    {
     "name": "stdout",
     "output_type": "stream",
     "text": [
      "Hello\n",
      "Nothing went wrong\n"
     ]
    }
   ],
   "source": [
    "try:\n",
    "  print(\"Hello\")\n",
    "except:\n",
    "  print(\"Something went wrong\")\n",
    "\n",
    "print(\"Nothing went wrong\")"
   ]
  },
  {
   "cell_type": "code",
   "execution_count": 151,
   "metadata": {
    "trusted": true
   },
   "outputs": [
    {
     "name": "stdout",
     "output_type": "stream",
     "text": [
      "File not found.\n"
     ]
    }
   ],
   "source": [
    "try:\n",
    "    with open('example.txt', 'r') as file:\n",
    "        content = file.read()\n",
    "except FileNotFoundError:\n",
    "    print(\"File not found.\")\n",
    "else:\n",
    "    print(\"File read successfully:\", content)\n"
   ]
  },
  {
   "cell_type": "markdown",
   "metadata": {},
   "source": [
    "### Exercise 1: Division with else Block\n",
    "Write a program that:\n",
    "\n",
    "Performs division between two numbers. <br>\n",
    "Uses a try block to catch a ZeroDivisionError. <br>\n",
    "If no exception occurs, the else block should print the result of the division. "
   ]
  },
  {
   "cell_type": "code",
   "execution_count": null,
   "metadata": {
    "trusted": true
   },
   "outputs": [],
   "source": []
  },
  {
   "cell_type": "markdown",
   "metadata": {},
   "source": [
    "### Exercise 2: Valid Input Handling\n",
    "Write a program that:\n",
    "\n",
    "Iterates through a list of strings: [\"12\", \"34\", \"abc\", \"56\"]. <br>\n",
    "Tries to convert each string to an integer inside a try block. <br>\n",
    "If successful, the else block should print the converted integer. <br>\n",
    "If a ValueError occurs, print an error message instead."
   ]
  },
  {
   "cell_type": "code",
   "execution_count": null,
   "metadata": {
    "trusted": true
   },
   "outputs": [],
   "source": []
  },
  {
   "cell_type": "markdown",
   "metadata": {},
   "source": [
    "### Exercise 3: List Indexing with else Block\n",
    "Write a program that:\n",
    "\n",
    "Attempts to access an element from a list: my_list = [10, 20, 30, 40]. <br>\n",
    "Use a try block to catch an IndexError if the index is out of range. <br>\n",
    "If no exception occurs, the else block should print the accessed element. "
   ]
  },
  {
   "cell_type": "code",
   "execution_count": null,
   "metadata": {
    "trusted": true
   },
   "outputs": [],
   "source": []
  },
  {
   "cell_type": "markdown",
   "metadata": {},
   "source": [
    "### Exercise 4: Nested Try-Else with File Operations\n",
    "Create a program that:\n",
    "\n",
    "Tries to open a file numbers.txt. <br>\n",
    "Reads the file and converts each line to an integer inside a nested try block. <br>\n",
    "If the file is successfully opened and no errors occur, use the else block to print \"All operations completed successfully.\" <br>\n",
    "Handle any exceptions that arise (e.g., FileNotFoundError or ValueError)."
   ]
  },
  {
   "cell_type": "code",
   "execution_count": null,
   "metadata": {
    "trusted": true
   },
   "outputs": [],
   "source": []
  },
  {
   "cell_type": "markdown",
   "metadata": {},
   "source": [
    "## 4 The finally Block\n",
    "The finally block always executes, whether an exception occurs or not. It's used for cleanup actions."
   ]
  },
  {
   "cell_type": "code",
   "execution_count": 152,
   "metadata": {
    "trusted": true
   },
   "outputs": [
    {
     "name": "stdout",
     "output_type": "stream",
     "text": [
      "File not found.\n",
      "File closed.\n"
     ]
    }
   ],
   "source": [
    "try:\n",
    "    file = open('example.txt', 'r')\n",
    "    content = file.read()\n",
    "except FileNotFoundError:\n",
    "    print(\"File not found.\")\n",
    "finally:\n",
    "    file.close()\n",
    "    print(\"File closed.\")\n"
   ]
  },
  {
   "cell_type": "code",
   "execution_count": 153,
   "metadata": {
    "trusted": true
   },
   "outputs": [
    {
     "name": "stdout",
     "output_type": "stream",
     "text": [
      "-1\n",
      "The 'try except' is finished\n"
     ]
    }
   ],
   "source": [
    "try:\n",
    "  print(x)\n",
    "except:\n",
    "  print(\"Something went wrong\")\n",
    "finally:\n",
    "  print(\"The 'try except' is finished\")"
   ]
  },
  {
   "cell_type": "markdown",
   "metadata": {},
   "source": [
    "### Exercise 1: Division Operation with Cleanup\n",
    "Write a program that:\n",
    "\n",
    "Attempts to divide two numbers using a try block.<br>\n",
    "Handles ZeroDivisionError with an except block. <br>\n",
    "Uses a finally block to print \"Operation complete\" regardless of whether an exception occurred."
   ]
  },
  {
   "cell_type": "code",
   "execution_count": null,
   "metadata": {
    "trusted": true
   },
   "outputs": [],
   "source": []
  },
  {
   "cell_type": "markdown",
   "metadata": {},
   "source": [
    "### Exercise 2: File Handling with Cleanup\n",
    "Create a program that:\n",
    "\n",
    "Attempts to open a file called data.txt for reading. <br>\n",
    "Catches the FileNotFoundError if the file does not exist. <br>\n",
    "Uses the finally block to print \"Finished file operation\" to ensure proper cleanup."
   ]
  },
  {
   "cell_type": "code",
   "execution_count": null,
   "metadata": {
    "trusted": true
   },
   "outputs": [],
   "source": []
  },
  {
   "cell_type": "markdown",
   "metadata": {},
   "source": [
    "### Exercise 3: Nested Try-Finally Blocks\n",
    "Write a program that:\n",
    "\n",
    "Attempts to access elements in a list: my_list = [10, 20, 30]. <br>\n",
    "Handles IndexError if the index is out of range. <br>\n",
    "Uses a finally block inside the loop to print \"Access attempt finished\" for each iteration."
   ]
  },
  {
   "cell_type": "code",
   "execution_count": null,
   "metadata": {
    "trusted": true
   },
   "outputs": [],
   "source": []
  },
  {
   "cell_type": "markdown",
   "metadata": {},
   "source": [
    "### Exercise 4: Combining Multiple Exceptions with Finally\n",
    "Write a program that:\n",
    "\n",
    "Tries to convert strings from a list data = [\"42\", \"invalid\", \"33\"] to integers. <br>\n",
    "Handles ValueError if conversion fails. <br>\n",
    "Uses a finally block to print \"Finished processing element: <element>\" after each conversion attempt, regardless of success or failure."
   ]
  },
  {
   "cell_type": "code",
   "execution_count": null,
   "metadata": {
    "trusted": true
   },
   "outputs": [],
   "source": []
  },
  {
   "cell_type": "markdown",
   "metadata": {},
   "source": [
    "## 5. Raise an exception\n",
    "As a Python developer you can choose to throw an exception if a condition occurs.\n",
    "\n",
    "To throw (or raise) an exception, use the raise keyword."
   ]
  },
  {
   "cell_type": "code",
   "execution_count": 154,
   "metadata": {
    "trusted": true
   },
   "outputs": [
    {
     "ename": "Exception",
     "evalue": "Sorry, no numbers below zero",
     "output_type": "error",
     "traceback": [
      "\u001b[0;31m---------------------------------------------------------------------------\u001b[0m",
      "\u001b[0;31mException\u001b[0m                                 Traceback (most recent call last)",
      "Cell \u001b[0;32mIn[154], line 4\u001b[0m\n\u001b[1;32m      1\u001b[0m x \u001b[38;5;241m=\u001b[39m \u001b[38;5;241m-\u001b[39m\u001b[38;5;241m1\u001b[39m\n\u001b[1;32m      3\u001b[0m \u001b[38;5;28;01mif\u001b[39;00m x \u001b[38;5;241m<\u001b[39m \u001b[38;5;241m0\u001b[39m:\n\u001b[0;32m----> 4\u001b[0m   \u001b[38;5;28;01mraise\u001b[39;00m \u001b[38;5;167;01mException\u001b[39;00m(\u001b[38;5;124m\"\u001b[39m\u001b[38;5;124mSorry, no numbers below zero\u001b[39m\u001b[38;5;124m\"\u001b[39m)\n",
      "\u001b[0;31mException\u001b[0m: Sorry, no numbers below zero"
     ]
    }
   ],
   "source": [
    "x = -1\n",
    "\n",
    "if x < 0:\n",
    "  raise Exception(\"Sorry, no numbers below zero\")"
   ]
  },
  {
   "cell_type": "markdown",
   "metadata": {},
   "source": [
    "The raise keyword is used to raise an exception.\n",
    "\n",
    "You can define what kind of error to raise, and the text to print to the user."
   ]
  },
  {
   "cell_type": "code",
   "execution_count": null,
   "metadata": {
    "trusted": true
   },
   "outputs": [
    {
     "ename": "<class 'TypeError'>",
     "evalue": "Only integers are allowed",
     "output_type": "error",
     "traceback": [
      "\u001b[0;31m---------------------------------------------------------------------------\u001b[0m",
      "\u001b[0;31mTypeError\u001b[0m                                 Traceback (most recent call last)",
      "Cell \u001b[0;32mIn[19], line 4\u001b[0m\n\u001b[1;32m      1\u001b[0m x \u001b[38;5;241m=\u001b[39m \u001b[38;5;124m\"\u001b[39m\u001b[38;5;124mhello\u001b[39m\u001b[38;5;124m\"\u001b[39m\n\u001b[1;32m      3\u001b[0m \u001b[38;5;28;01mif\u001b[39;00m \u001b[38;5;129;01mnot\u001b[39;00m \u001b[38;5;28mtype\u001b[39m(x) \u001b[38;5;129;01mis\u001b[39;00m \u001b[38;5;28mint\u001b[39m:\n\u001b[0;32m----> 4\u001b[0m   \u001b[38;5;28;01mraise\u001b[39;00m \u001b[38;5;167;01mTypeError\u001b[39;00m(\u001b[38;5;124m\"\u001b[39m\u001b[38;5;124mOnly integers are allowed\u001b[39m\u001b[38;5;124m\"\u001b[39m)\n",
      "\u001b[0;31mTypeError\u001b[0m: Only integers are allowed"
     ]
    }
   ],
   "source": [
    "x = \"hello\"\n",
    "\n",
    "if not type(x) is int:\n",
    "  raise TypeError(\"Only integers are allowed\")"
   ]
  },
  {
   "cell_type": "raw",
   "metadata": {},
   "source": [
    "https://www.w3schools.com/python/python_ref_exceptions.asp"
   ]
  },
  {
   "cell_type": "markdown",
   "metadata": {},
   "source": [
    "### Exercise 1: Raise a Custom ValueError\n",
    "Write a function check_positive(number) that:\n",
    "\n",
    "Accepts an integer as input. <br>\n",
    "Raises a ValueError with the message \"Number must be positive\" if the number is less than or equal to zero. <br>\n",
    "Otherwise, prints the number is valid."
   ]
  },
  {
   "cell_type": "code",
   "execution_count": null,
   "metadata": {
    "trusted": true
   },
   "outputs": [],
   "source": []
  },
  {
   "cell_type": "markdown",
   "metadata": {},
   "source": [
    "### Exercise 2: Raise a Custom TypeError\n",
    "Write a function check_string(value) that:\n",
    "\n",
    "Accepts a value as input. <br>\n",
    "Raises a TypeError with the message \"Expected a string\" if the value is not a string. <br>\n",
    "Otherwise, prints the string in uppercase."
   ]
  },
  {
   "cell_type": "code",
   "execution_count": null,
   "metadata": {
    "trusted": true
   },
   "outputs": [],
   "source": []
  },
  {
   "cell_type": "markdown",
   "metadata": {},
   "source": [
    "### Exercise 3: Raise an Exception in a Loop\n",
    "Write a program that iterates over a list of numbers numbers = [10, 20, -5, 30, -1].\n",
    "\n",
    "If a negative number is encountered, raise a RuntimeError with the message \"Negative number detected: <number>\". <br>\n",
    "Ensure the program stops when the exception is raised."
   ]
  },
  {
   "cell_type": "code",
   "execution_count": null,
   "metadata": {
    "trusted": true
   },
   "outputs": [],
   "source": []
  },
  {
   "cell_type": "markdown",
   "metadata": {},
   "source": [
    "### Exercise 4: Raise a Custom ZeroDivisionError\n",
    "Write a function safe_divide(a, b) that:\n",
    "\n",
    "Accepts two numbers, a and b. <br>\n",
    "Raises a ZeroDivisionError with the message \"Denominator cannot be zero\" if b is zero. <br>\n",
    "Otherwise, returns the result of dividing a by b."
   ]
  },
  {
   "cell_type": "code",
   "execution_count": null,
   "metadata": {
    "trusted": true
   },
   "outputs": [],
   "source": []
  },
  {
   "cell_type": "markdown",
   "metadata": {},
   "source": [
    "### Exercise 5: Raise a Custom Exception\n",
    "Create a custom exception class InvalidPasswordError that:\n",
    "\n",
    "Is raised by a function validate_password(password) when the password does not meet the following criteria: <br>\n",
    "At least 8 characters long. <br>\n",
    "Contains at least one digit. <br>\n",
    "Contains at least one special character (@, #, $, etc.). <br>\n",
    "The exception should include a message explaining the specific reason(s) why the password is invalid. <br>\n",
    "If the password is valid, print \"Password is valid.\"\n"
   ]
  },
  {
   "cell_type": "code",
   "execution_count": null,
   "metadata": {
    "trusted": true
   },
   "outputs": [],
   "source": []
  }
 ],
 "metadata": {
  "kernelspec": {
   "display_name": "Python 3",
   "language": "python",
   "name": "python3"
  },
  "language_info": {
   "codemirror_mode": {
    "name": "ipython",
    "version": 3
   },
   "file_extension": ".py",
   "mimetype": "text/x-python",
   "name": "python",
   "nbconvert_exporter": "python",
   "pygments_lexer": "ipython3",
   "version": "3.12.3"
  }
 },
 "nbformat": 4,
 "nbformat_minor": 4
}
