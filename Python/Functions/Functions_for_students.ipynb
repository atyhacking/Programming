{
  "cells": [
    {
      "cell_type": "markdown",
      "metadata": {},
      "source": [
        "# Functions in Python "
      ]
    },
    {
      "cell_type": "markdown",
      "metadata": {},
      "source": [
        "## 1. Defining and Calling Functions\n",
        "\n",
        "**Definition:**\n",
        "A function is a block of organized, reusable code that is used to perform a specific task. In Python, functions are defined using the def keyword, followed by the function name and parentheses.\n",
        "\n",
        "Functions help in structuring the code and making it reusable, which is especially useful in cybersecurity for tasks like encryption, decryption, traffic analysis, and packet filtering.\n",
        "\n",
        "### Syntax"
      ]
    },
    {
      "cell_type": "raw",
      "metadata": {},
      "source": [
        "def function_name(parameters):\n",
        "    # Block of code\n",
        "    return value  # (Optional)\n"
      ]
    },
    {
      "cell_type": "markdown",
      "metadata": {},
      "source": [
        "### Example 1: Basic Function to Check if an IP is Suspicious\n",
        "\n",
        "Let's create a function that checks whether an IP address belongs to a known list of suspicious IPs."
      ]
    },
    {
      "cell_type": "code",
      "execution_count": 26,
      "metadata": {
        "trusted": true
      },
      "outputs": [
        {
          "name": "stdout",
          "output_type": "stream",
          "text": [
            "Is 10.0.0.5 a suspicious IP? True\n"
          ]
        }
      ],
      "source": [
        "# List of suspicious IP addresses\n",
        "suspicious_ips = [\"192.168.1.100\", \"10.0.0.5\", \"203.0.113.50\"]\n",
        "\n",
        "# Define a function to check if an IP is suspicious\n",
        "def is_suspicious_ip(ip):\n",
        "    if ip in suspicious_ips:\n",
        "        return True\n",
        "    return False\n",
        "\n",
        "# Call the function to check\n",
        "ip_to_check = \"10.0.0.5\"\n",
        "result = is_suspicious_ip(ip_to_check)\n",
        "print(f\"Is {ip_to_check} a suspicious IP? {result}\")\n"
      ]
    },
    {
      "cell_type": "markdown",
      "metadata": {},
      "source": [
        "### Example 2: Function to Log Security Alerts\n",
        "You can use functions to log security events. Here's an example of a function that prints a security alert message when certain keywords are detected in a log entry."
      ]
    },
    {
      "cell_type": "code",
      "execution_count": 27,
      "metadata": {
        "trusted": true
      },
      "outputs": [
        {
          "name": "stdout",
          "output_type": "stream",
          "text": [
            "Security Alert: Detected threat in log - malware detected in network traffic\n"
          ]
        }
      ],
      "source": [
        "# Define a function to log security alerts\n",
        "def log_security_alert(log_entry):\n",
        "    if \"malware\" in log_entry or \"attack\" in log_entry:\n",
        "        print(f\"Security Alert: Detected threat in log - {log_entry}\")\n",
        "    else:\n",
        "        print(\"Log entry is safe.\")\n",
        "\n",
        "# Call the function to log an alert\n",
        "log_security_alert(\"malware detected in network traffic\")\n"
      ]
    },
    {
      "cell_type": "markdown",
      "metadata": {},
      "source": [
        "### Exercises\n",
        "\n",
        "1) Write a function block_ip(ip) that takes an IP address as input and prints \"IP Blocked\" if the IP is in the blocklist, otherwise print \"IP Safe\". Use this list of blocked IPs: [\"192.168.1.5\", \"10.0.0.2\", \"203.0.113.7\"]."
      ]
    },
    {
      "cell_type": "code",
      "execution_count": 28,
      "metadata": {
        "trusted": true
      },
      "outputs": [
        {
          "name": "stdout",
          "output_type": "stream",
          "text": [
            "IP Safe\n"
          ]
        }
      ],
      "source": [
        "# write your code here\n",
        "def block_ip(ip):\n",
        "    blocked_ips = [\"192.168.1.5\", \"10.0.0.2\", \"203.0.113.7\"]\n",
        "    if ip in blocked_ips:\n",
        "        print(\"IP Blocked\")\n",
        "    else:\n",
        "        print(\"IP Safe\")\n",
        "        \n",
        "ip = input(\"Introduce una IP: \")\n",
        "block_ip(ip)\n"
      ]
    },
    {
      "cell_type": "markdown",
      "metadata": {},
      "source": [
        "2) Define a function check_vulnerability(log_entry) that checks if a log entry contains the word \"vulnerability\". If so, it should return \"Vulnerability Found\", otherwise it should return \"No Vulnerability\"."
      ]
    },
    {
      "cell_type": "code",
      "execution_count": 29,
      "metadata": {
        "trusted": true
      },
      "outputs": [
        {
          "name": "stdout",
          "output_type": "stream",
          "text": [
            "No Vulnerability\n"
          ]
        }
      ],
      "source": [
        "#write your code here\n",
        "def check_vulnerability(log_entry):\n",
        "    if \"vulnerability\" in log_entry.lower():\n",
        "        print(\"Vulnerability Found\")\n",
        "    else:\n",
        "        print(\"No Vulnerability\")\n",
        "        \n",
        "log_entry = input(\"Check log entry: \")\n",
        "check_vulnerability(log_entry)"
      ]
    },
    {
      "cell_type": "markdown",
      "metadata": {},
      "source": [
        "3) Create a function has_sql_injection(query) that checks if a given SQL query contains an SQL injection attempt (e.g., ' OR '1'='1). It should return True if an injection is found, otherwise return False."
      ]
    },
    {
      "cell_type": "code",
      "execution_count": 30,
      "metadata": {
        "trusted": true
      },
      "outputs": [
        {
          "name": "stdout",
          "output_type": "stream",
          "text": [
            "Peticion segura\n"
          ]
        }
      ],
      "source": [
        "#write your code here\n",
        "\n",
        "def has_sql_injection(query):\n",
        "    sql_injection_pattern = (\n",
        "    \"' OR '1'='1\",                        \n",
        "    \"' OR '1'='1' -- \",                   \n",
        "    \"' OR '1'='1' /* \",                   \n",
        "    \"' OR '1'='1' #\",                     \n",
        "    \"' OR 1=1; -- \",                      \n",
        "    \"' OR '' = '\",                        \n",
        "    \"' OR 1=1 LIMIT 1; -- \",              \n",
        "    \"' UNION SELECT NULL, NULL; -- \",     \n",
        "    \"' UNION SELECT username, password FROM users; -- \", \n",
        "    \"' AND 'a'='a\",                      \n",
        "    \"'; DROP TABLE users; -- \",          \n",
        "    \"'; EXEC xp_cmdshell('whoami'); --\", \n",
        "    \"' OR EXISTS(SELECT * FROM users); --\", \n",
        "    \"' OR 1=1--\",                        \n",
        "    \"' OR 'x'='x'--\",                    \n",
        "    )\n",
        "\n",
        "    for element in sql_injection_pattern:\n",
        "        if element in query:\n",
        "            return True\n",
        "    return False\n",
        "    \n",
        "query = input(\"Introduce la peticion: \")\n",
        "if has_sql_injection(query):\n",
        "    print(\"Se ha encontrado inyeccion SQL\")\n",
        "else:\n",
        "    print(\"Peticion segura\")\n",
        "\n"
      ]
    },
    {
      "cell_type": "markdown",
      "metadata": {},
      "source": [
        "## 2. Parámetros y valores de retorno\n",
        "**Definición:**\n",
        "Las funciones pueden tomar parámetros (entradas) y devolver valores. Esto permite que las funciones sean más flexibles y reutilizables en diferentes situaciones.\n",
        "\n",
        "*Parámetros:* Valores pasados a la función cuando se llama.\n",
        "*Valor de retorno:* El resultado que devuelve la función después de la ejecución. Si no se proporciona ninguna declaración de devolución, la función devolverá Ninguno.\n",
        "\n",
        "### Ejemplo 1: cifrado de datos mediante una función sencilla\n",
        "En ciberseguridad, puede crear funciones que tomen datos como entrada y devuelvan datos cifrados o procesados."
      ]
    },
    {
      "cell_type": "code",
      "execution_count": 31,
      "metadata": {
        "trusted": true
      },
      "outputs": [
        {
          "name": "stdout",
          "output_type": "stream",
          "text": [
            "Encrypted Text: VhfxuhPhvvdjh\n"
          ]
        }
      ],
      "source": [
        "# Simple encryption function (Caesar cipher with a shift of 3)\n",
        "def caesar_encrypt(plaintext, shift):\n",
        "    encrypted = \"\"\n",
        "    for char in plaintext:\n",
        "        encrypted += chr((ord(char) + shift) % 128)\n",
        "    return encrypted\n",
        "\n",
        "# Call the function to encrypt data\n",
        "text = \"SecureMessage\"\n",
        "encrypted_text = caesar_encrypt(text, 3)\n",
        "print(f\"Encrypted Text: {encrypted_text}\")\n"
      ]
    },
    {
      "cell_type": "markdown",
      "metadata": {},
      "source": [
        "### Ejemplo 2: descifrar datos\n",
        "\n",
        "De manera similar, puede escribir una función de descifrado que tome los datos cifrados y el valor de desplazamiento como parámetros y devuelva los datos originales."
      ]
    },
    {
      "cell_type": "code",
      "execution_count": 32,
      "metadata": {
        "trusted": true
      },
      "outputs": [
        {
          "name": "stdout",
          "output_type": "stream",
          "text": [
            "Decrypted Text: SecureMessage\n"
          ]
        }
      ],
      "source": [
        "# Simple decryption function (Caesar cipher)\n",
        "def caesar_decrypt(ciphertext, shift):\n",
        "    decrypted = \"\"\n",
        "    for char in ciphertext:\n",
        "        decrypted += chr((ord(char) - shift) % 128)\n",
        "    return decrypted\n",
        "\n",
        "# Decrypt the previously encrypted text\n",
        "decrypted_text = caesar_decrypt(encrypted_text, 3)\n",
        "print(f\"Decrypted Text: {decrypted_text}\")\n"
      ]
    },
    {
      "cell_type": "markdown",
      "metadata": {},
      "source": [
        "### Ejercicios\n",
        "\n",
        "1) Escriba una función detect_ddos(ip, traffic) que tome una dirección IP y la cantidad de tráfico (en bytes). Si el tráfico supera los 1000 bytes, imprima \"Posible ataque DDoS desde {ip}\", en caso contrario imprima \"Tráfico normal desde {ip}\"."
      ]
    },
    {
      "cell_type": "code",
      "execution_count": 39,
      "metadata": {
        "trusted": true
      },
      "outputs": [
        {
          "name": "stdout",
          "output_type": "stream",
          "text": [
            "Posible ataque DDoS desde 192.168.1.2\n"
          ]
        }
      ],
      "source": [
        "#write your code here\n",
        "def detect_ddos(ip, traffic):\n",
        "    if traffic > 1000:\n",
        "        print(f\"Posible ataque DDoS desde {ip}\")\n",
        "    else:\n",
        "        print(f\"Tráfico normal desde {ip}\")\n",
        "    return\n",
        "try:\n",
        "    ip_user = input(\"Introduce una IP: \")\n",
        "    traffic_user = int(input(\"Introduce el tráfico en bytes: \"))\n",
        "except ValueError:\n",
        "    print(\"Por favor, introduce solo valores numericos\")\n",
        "detect_ddos(ip_user ,traffic_user)\n"
      ]
    },
    {
      "cell_type": "markdown",
      "metadata": {},
      "source": [
        "2.) Defina una función xor_encrypt(text, key) que tome una cadena de texto y una clave entera, y devuelva el resultado del texto cifrado con XOR (puede usar ord() y chr() para la manipulación de caracteres)."
      ]
    },
    {
      "cell_type": "code",
      "execution_count": 40,
      "metadata": {
        "trusted": true
      },
      "outputs": [
        {
          "name": "stdout",
          "output_type": "stream",
          "text": [
            "Por favor, introduce solo valores numéricos\n"
          ]
        }
      ],
      "source": [
        "def xor_encrypt(text, key):\n",
        "    extended_key = key * (len(text) // len(key)) + key[:len(text) % len(key)]\n",
        "    xored = ''.join(chr(ord(x) ^ ord(y)) for x, y in zip(text, extended_key))\n",
        "    return xored\n",
        "\n",
        "\n",
        "text_user = input(\"Introduce el mensaje a encriptar: \")\n",
        "\n",
        "key_user = input(\"Introduce la clave (numerica): \")\n",
        "if not key_user.isdigit():  \n",
        "    print(\"Por favor, introduce solo valores numéricos\")\n",
        "else:\n",
        "    key_user = int(key_user)\n",
        "    encrypted_message = xor_encrypt(text_user, str(key_user))  \n",
        "    print(f\"El mensaje encriptado es: {encrypted_message}\")\n",
        "\n",
        "#Con ayuda, taba difisil xD\n"
      ]
    },
    {
      "cell_type": "markdown",
      "metadata": {},
      "source": [
        "3. Cree una función strong_password(password) que tome una contraseña como parámetro y devuelva:\n",
        "\n",
        "* \"Débil\" si la contraseña tiene menos de 6 caracteres.\n",
        "* \"Media\" si la contraseña tiene entre 6 y 10 caracteres.\n",
        "* \"Fuerte\" si la contraseña tiene más de 10 caracteres."
      ]
    },
    {
      "cell_type": "code",
      "execution_count": 41,
      "metadata": {
        "trusted": true
      },
      "outputs": [
        {
          "name": "stdout",
          "output_type": "stream",
          "text": [
            "La contraseña es débil\n"
          ]
        }
      ],
      "source": [
        "#write you code here\n",
        "def strong_password(password):\n",
        "    if len(password) < 6:\n",
        "        return \"débil\"\n",
        "    elif len(password) > 6 and len(password) <= 10:\n",
        "        return \"media\"\n",
        "    elif len(password) > 10:\n",
        "        return \"fuerte\"\n",
        "\n",
        "user_passoword = input(\"Introduce una contraseña: \")\n",
        "print(f\"La contraseña es {strong_password(user_passoword)}\")\n"
      ]
    },
    {
      "cell_type": "markdown",
      "metadata": {},
      "source": [
        "## 3. Scope and Lifetime of Variables\n",
        "**Definition:**\n",
        "The scope of a variable defines where it can be accessed within the code. In Python:\n",
        "\n",
        "* Variables defined inside a function have a local scope, meaning they can only be accessed inside that function.\n",
        "* Variables defined outside a function have a global scope, meaning they can be accessed anywhere in the code.\n",
        "\n",
        "The lifetime of a variable refers to the duration for which the variable exists in memory. For example, a local variable only exists as long as the function is executing."
      ]
    },
    {
      "cell_type": "markdown",
      "metadata": {},
      "source": [
        "### Example 1: Global vs Local Variables in a Password Cracker"
      ]
    },
    {
      "cell_type": "code",
      "execution_count": 42,
      "metadata": {
        "trusted": true
      },
      "outputs": [
        {
          "name": "stdout",
          "output_type": "stream",
          "text": [
            "Access Denied! Attempts: 1\n",
            "Access Granted!\n"
          ]
        }
      ],
      "source": [
        "# Global variable\n",
        "password_attempts = 0\n",
        "\n",
        "def crack_password(attempt):\n",
        "    # Local variable\n",
        "    global password_attempts\n",
        "    password_attempts += 1\n",
        "    correct_password = \"password123\"\n",
        "    if attempt == correct_password:\n",
        "        print(\"Access Granted!\")\n",
        "    else:\n",
        "        print(f\"Access Denied! Attempts: {password_attempts}\")\n",
        "\n",
        "# Call the function multiple times\n",
        "crack_password(\"password1234\")\n",
        "crack_password(\"password123\")\n"
      ]
    },
    {
      "cell_type": "markdown",
      "metadata": {},
      "source": [
        "### Example 2: Local Variables in a Packet Sniffer"
      ]
    },
    {
      "cell_type": "code",
      "execution_count": 43,
      "metadata": {
        "trusted": true
      },
      "outputs": [
        {
          "name": "stdout",
          "output_type": "stream",
          "text": [
            "Suspicious packet detected: User data attack detected\n"
          ]
        },
        {
          "data": {
            "text/plain": [
              "True"
            ]
          },
          "execution_count": 43,
          "metadata": {},
          "output_type": "execute_result"
        }
      ],
      "source": [
        "def analyze_packet(packet):\n",
        "    # Local variable\n",
        "    suspicious_words = [\"attack\", \"malware\", \"phishing\"]\n",
        "    for word in suspicious_words:\n",
        "        if word in packet:\n",
        "            print(f\"Suspicious packet detected: {packet}\")\n",
        "            return True\n",
        "    return False\n",
        "\n",
        "# Packet analysis\n",
        "packet = \"User data attack detected\"\n",
        "analyze_packet(packet)\n",
        "\n",
        "# Try to access local variable (this will cause an error)\n",
        "# print(suspicious_words)  # Uncommenting this will raise an error\n"
      ]
    },
    {
      "cell_type": "markdown",
      "metadata": {},
      "source": [
        "### Exercises\n",
        "\n",
        "1) Write a function reset_attempts() that resets the global variable login_attempts to 0, and a function attempt_login() that increments the number of attempts. Simulate a failed login mechanism with a global login_attempts variable.\n",
        "\n",
        "1) Escriba una función reset_attempts() que restablezca la variable global login_attempts a 0, y una función try_login() que incremente el número de intentos. Simule un mecanismo de inicio de sesión fallido con una variable global login_attempts."
      ]
    },
    {
      "cell_type": "code",
      "execution_count": 44,
      "metadata": {
        "trusted": true
      },
      "outputs": [
        {
          "name": "stdout",
          "output_type": "stream",
          "text": [
            "(La contraseña es: Admin123)\n",
            "Inicios de sesion reestablecidos a 0.\n"
          ]
        }
      ],
      "source": [
        "# write your code here\n",
        "\n",
        "login_attempts = 0\n",
        "def reset_attempts():\n",
        "    global login_attempts\n",
        "    login_attempts = 0\n",
        "    print(\"Inicios de sesion reestablecidos a 0.\")\n",
        "    return\n",
        "def try_login():\n",
        "    global login_attempts\n",
        "    login_attempts += 1\n",
        "    print(f\"Intento de inicio de sesión fallido, fallos actuales: {login_attempts}\")\n",
        "    return\n",
        "while True: # -------Esto es adicional al ejercicio pero le da mas juego :D\n",
        "    password = \"Admin123\"# |||||||||||||||||||||||||||\n",
        "    print(f\"(La contraseña es: {password})\")#|||||||||\n",
        "    user_password = input(\"Introduce la contraseña: \")\n",
        "    if user_password != password:\n",
        "        try_login()\n",
        "    else:\n",
        "        reset_attempts()\n",
        "        break"
      ]
    },
    {
      "cell_type": "markdown",
      "metadata": {},
      "source": [
        "2) Create a function detect_intrusion() that takes a log entry and uses a local variable suspicious to detect the words \"unauthorized access\" or \"intrusion\". If detected, return True, otherwise False.\n",
        "\n",
        "2) Cree una función detect_intrusion() que tome una entrada de registro y utilice una variable local sospechosa para detectar las palabras \"acceso no autorizado\" o \"intrusión\". Si se detecta, devuelve Verdadero; en caso contrario, Falso."
      ]
    },
    {
      "cell_type": "code",
      "execution_count": 45,
      "metadata": {
        "trusted": true
      },
      "outputs": [
        {
          "name": "stdout",
          "output_type": "stream",
          "text": [
            "Entrada segura\n"
          ]
        }
      ],
      "source": [
        "# write your code\n",
        "\n",
        "def detect_intrusion(log_entry):\n",
        "    if \"unauthorized access\" in log_entry or \"intrusion\" in log_entry:\n",
        "        return True\n",
        "    return False\n",
        "log_entry = input(\"Introduce la entrada de registro: \")\n",
        "if detect_intrusion(log_entry):\n",
        "    print(\"Intrusión detectada\")\n",
        "else:\n",
        "    print(\"Entrada segura\")"
      ]
    },
    {
      "cell_type": "markdown",
      "metadata": {},
      "source": [
        "3) Write a function track_failed_logins() that tracks the number of failed login attempts globally. Each time the function is called, it increments the count. The function should print the total number of failed attempts.\n",
        "\n",
        "3) Escriba una función track_failed_logins() que rastree el número de intentos fallidos de inicio de sesión a nivel mundial. Cada vez que se llama a la función, incrementa el recuento. La función debería imprimir el número total de intentos fallidos."
      ]
    },
    {
      "cell_type": "code",
      "execution_count": 59,
      "metadata": {
        "trusted": true
      },
      "outputs": [
        {
          "name": "stdout",
          "output_type": "stream",
          "text": [
            "1: Intento de login\n",
            "2: Salir\n",
            "Intento de inicio de sesion fallido!\n",
            "1: Intento de login\n",
            "2: Salir\n",
            "El numero de intentos fallidos ha sido: 1\n"
          ]
        }
      ],
      "source": [
        "# write your code\n",
        "contador = 0\n",
        "\n",
        "def track_failed_logins():\n",
        "    global contador\n",
        "    contador += 1\n",
        "    print(\"Intento de inicio de sesion fallido!\")\n",
        "\n",
        "while True:\n",
        "    try:\n",
        "        print(\"1: Intento de login\")\n",
        "        print(\"2: Salir\")\n",
        "        menuOption = int(input(\"Input: \"))\n",
        "    except ValueError:\n",
        "        print(\"Introduce solamente valores numericos\") \n",
        "\n",
        "    if menuOption == 1:\n",
        "        track_failed_logins()\n",
        "    elif menuOption == 2:\n",
        "        print(f\"El numero de intentos fallidos ha sido: {contador}\")\n",
        "        break\n",
        "    else:\n",
        "        print(\"Opcion incorrecta, vuelvalo a intentar.\")\n",
        "\n",
        "\n",
        "\n",
        "\n",
        "\n"
      ]
    },
    {
      "cell_type": "markdown",
      "metadata": {},
      "source": [
        "### Conclusion\n",
        "By the end of this lecture, you should have a clear understanding of how to:\n",
        "\n",
        "* Define and call functions.\n",
        "* Use parameters and return values to make functions more dynamic.\n",
        "* Understand variable scope and lifetime, which is critical in preventing issues like variable conflicts, especially in larger cryptographic and cybersecurity projects.\n",
        "\n",
        "These concepts are fundamental to writing secure, efficient, and reusable code, which is essential in fields like cybersecurity and cryptography. Functions help encapsulate code logic, making it easier to apply encryption, decryption, and network monitoring across different parts of your code without redundancy.\n",
        "\n"
      ]
    }
  ],
  "metadata": {
    "kernelspec": {
      "display_name": "Python 3",
      "language": "python",
      "name": "python3"
    },
    "language_info": {
      "codemirror_mode": {
        "name": "ipython",
        "version": 3
      },
      "file_extension": ".py",
      "mimetype": "text/x-python",
      "name": "python",
      "nbconvert_exporter": "python",
      "pygments_lexer": "ipython3",
      "version": "3.10.12"
    }
  },
  "nbformat": 4,
  "nbformat_minor": 4
}
