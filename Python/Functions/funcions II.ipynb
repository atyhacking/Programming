{
 "cells": [
  {
   "cell_type": "markdown",
   "metadata": {},
   "source": [
    "# Advanced Concepts"
   ]
  },
  {
   "cell_type": "markdown",
   "metadata": {},
   "source": [
    "## 1. Recursive Functions\n",
    "Definition:\n",
    "A recursive function is a function that calls itself during its execution. Recursive solutions are useful in scenarios such as traversing data structures, exploring possibilities in cryptography (e.g., brute-force password cracking), or breaking down complex problems into smaller sub-problems.\n",
    "\n",
    "### Example 1: Recursive Password Cracker\n",
    "A recursive function can be used to attempt all possible combinations of passwords. This is particularly useful in brute-force attacks (for educational purposes only)."
   ]
  },
  {
   "cell_type": "code",
   "execution_count": 4,
   "metadata": {
    "trusted": true
   },
   "outputs": [
    {
     "name": "stdout",
     "output_type": "stream",
     "text": [
      "Password cracked: a1c\n"
     ]
    }
   ],
   "source": [
    "def brute_force_password(current_attempt, length, charset, correct_password):\n",
    "    if length == 0:\n",
    "        if current_attempt == correct_password:\n",
    "            print(f\"Password cracked: {current_attempt}\")\n",
    "        return\n",
    "\n",
    "    for char in charset:\n",
    "        brute_force_password(current_attempt + char, length - 1, charset, correct_password)\n",
    "\n",
    "# Character set and correct password\n",
    "charset = \"abc123\"\n",
    "correct_password = \"a1c\"\n",
    "# Start brute-forcing with password length of 3\n",
    "brute_force_password(\"\", 3, charset, correct_password)\n"
   ]
  },
  {
   "cell_type": "markdown",
   "metadata": {},
   "source": [
    "### Example 2: Recursive Factorial (Cryptography Usage in Modular Arithmetic)\n",
    "Factorial can be used in cryptography when calculating large numbers in modular arithmetic (RSA or ElGamal encryption)."
   ]
  },
  {
   "cell_type": "code",
   "execution_count": 5,
   "metadata": {
    "trusted": true
   },
   "outputs": [
    {
     "name": "stdout",
     "output_type": "stream",
     "text": [
      "Factorial of 5: 120\n"
     ]
    }
   ],
   "source": [
    "def factorial(n):\n",
    "    if n == 0 or n == 1:\n",
    "        return 1\n",
    "    return n * factorial(n - 1)\n",
    "\n",
    "# Calculate factorial\n",
    "n = 5\n",
    "print(f\"Factorial of {n}: {factorial(n)}\")\n"
   ]
  },
  {
   "cell_type": "markdown",
   "metadata": {},
   "source": [
    "### Exercises\n",
    "\n",
    "\n",
    "1) Write a recursive function find_suspicious_ips(ip_list, suspicious_ips, index = 0) that takes a list of IP addresses and recursively checks if each IP address is in a given list of suspicious IPs. Print each suspicious IP found."
   ]
  },
  {
   "cell_type": "code",
   "execution_count": null,
   "metadata": {
    "trusted": true
   },
   "outputs": [],
   "source": [
    "# Write your code here\n",
    "find_suspicious_ips(ip_list, suspicious_ips, index = 0)\n"
   ]
  },
  {
   "cell_type": "markdown",
   "metadata": {},
   "source": [
    "2) Create a recursive function find_max_in_logs(logs, index=0) that recursively searches through a list of log entries (strings) and returns the longest log entry (i.e., the one with the maximum length)."
   ]
  },
  {
   "cell_type": "code",
   "execution_count": null,
   "metadata": {
    "trusted": true
   },
   "outputs": [],
   "source": [
    "#write your code here"
   ]
  },
  {
   "cell_type": "markdown",
   "metadata": {},
   "source": [
    "## 2. Higher-Order Functions\n",
    "\n",
    "**Definition:**\n",
    "A higher-order function is a function that either takes one or more functions as parameters or returns a function as a result. This concept is useful when designing systems that need dynamic behavior, such as applying different cryptographic algorithms to a set of data.\n",
    "\n",
    "**Example 1:** Applying Encryption Algorithms\n",
    "Higher-order functions allow us to apply different encryption algorithms dynamically. Here's an example where we pass different encryption algorithms to a function."
   ]
  },
  {
   "cell_type": "code",
   "execution_count": 6,
   "metadata": {
    "trusted": true
   },
   "outputs": [
    {
     "name": "stdout",
     "output_type": "stream",
     "text": [
      "vhfxuhphvvdjh\n",
      "egassemeruces\n"
     ]
    }
   ],
   "source": [
    "def apply_encryption(data, encryption_algorithm):\n",
    "    return encryption_algorithm(data)\n",
    "\n",
    "# Example encryption algorithms (Caesar cipher and reverse string)\n",
    "def caesar_encrypt(data):\n",
    "    return ''.join([chr((ord(c) + 3) % 128) for c in data])\n",
    "\n",
    "def reverse_encrypt(data):\n",
    "    return data[::-1]\n",
    "\n",
    "# Apply different algorithms\n",
    "text = \"securemessage\"\n",
    "print(apply_encryption(text, caesar_encrypt))  # Output: Encrypted using Caesar cipher\n",
    "print(apply_encryption(text, reverse_encrypt)) # Output: Encrypted by reversing\n"
   ]
  },
  {
   "cell_type": "markdown",
   "metadata": {},
   "source": [
    "### Example 2: Log Filter Using Higher-Order Function\n",
    "We can define a higher-order function to filter logs based on various criteria."
   ]
  },
  {
   "cell_type": "code",
   "execution_count": 7,
   "metadata": {
    "trusted": true
   },
   "outputs": [
    {
     "name": "stdout",
     "output_type": "stream",
     "text": [
      "['System error']\n",
      "['malware detected']\n"
     ]
    }
   ],
   "source": [
    "def filter_logs(logs, criteria_function):\n",
    "    return [log for log in logs if criteria_function(log)]\n",
    "\n",
    "# Example criteria functions\n",
    "def contains_error(log):\n",
    "    return \"error\" in log\n",
    "\n",
    "def is_suspicious(log):\n",
    "    return \"attack\" in log or \"malware\" in log\n",
    "\n",
    "# Logs list\n",
    "logs = [\"System error\", \"No issues\", \"malware detected\", \"normal activity\"]\n",
    "\n",
    "# Filter logs\n",
    "print(filter_logs(logs, contains_error))   # Logs with \"error\"\n",
    "print(filter_logs(logs, is_suspicious))    # Logs with \"attack\" or \"malware\"\n"
   ]
  },
  {
   "cell_type": "markdown",
   "metadata": {},
   "source": [
    "## Exercises\n",
    "1) Write a higher-order function \"filter_list\" that takes the list [1,2,3,4,5,6,7,8,9]. Write two filters, one should take even numbers\n",
    " and the other one should take odd numbers. The function \"filter_list\"should return the resultant list after the application of a filter."
   ]
  },
  {
   "cell_type": "code",
   "execution_count": null,
   "metadata": {
    "trusted": true
   },
   "outputs": [],
   "source": [
    "# write your code here"
   ]
  },
  {
   "cell_type": "markdown",
   "metadata": {},
   "source": [
    "2) Write a higher-order function transform_based_on_condition(strings, condition, transformation) that takes a list of strings, a condition function, and a transformation function. The function should return a new list where each string that meets the condition has had the transformation applied to it.\n",
    "\n",
    "List =  [\"alice failed login\", \"bob successful login\", \"charlie failed login\"]\n",
    "\n",
    "Write two conditions and two transformations: \n",
    "\n",
    "a) condition: if an item has \"failed\"  transformation: write such item in Uppercase \n",
    "\n",
    "b) condition: if an item has \"successful\" transformation: replace this item by \"success\""
   ]
  },
  {
   "cell_type": "code",
   "execution_count": null,
   "metadata": {
    "trusted": true
   },
   "outputs": [],
   "source": [
    "#write your code here"
   ]
  },
  {
   "cell_type": "markdown",
   "metadata": {},
   "source": [
    "## 3. Lambda Functions\n",
    "\n",
    "**Definition:**\n",
    "A lambda function is a small, anonymous function defined using the lambda keyword. These functions are typically used for short, simple operations and are useful in contexts like sorting or filtering data based on specific criteria.\n"
   ]
  },
  {
   "cell_type": "markdown",
   "metadata": {},
   "source": [
    "### Examples: "
   ]
  },
  {
   "cell_type": "code",
   "execution_count": 6,
   "metadata": {},
   "outputs": [
    {
     "name": "stdout",
     "output_type": "stream",
     "text": [
      "25\n"
     ]
    }
   ],
   "source": [
    "square = lambda x: x ** 2\n",
    "print(square(5))  # Output: 25\n"
   ]
  },
  {
   "cell_type": "code",
   "execution_count": 2,
   "metadata": {},
   "outputs": [
    {
     "name": "stdout",
     "output_type": "stream",
     "text": [
      "10\n"
     ]
    }
   ],
   "source": [
    "add = lambda a, b: a + b\n",
    "print(add(3, 7))  # Output: 10\n"
   ]
  },
  {
   "cell_type": "code",
   "execution_count": 3,
   "metadata": {},
   "outputs": [
    {
     "name": "stdout",
     "output_type": "stream",
     "text": [
      "Positive\n",
      "Negative\n",
      "Zero\n"
     ]
    }
   ],
   "source": [
    "check_number = lambda x: \"Positive\" if x > 0 else (\"Negative\" if x < 0 else \"Zero\")\n",
    "print(check_number(10))   # Output: Positive\n",
    "print(check_number(-5))   # Output: Negative\n",
    "print(check_number(0))    # Output: Zero\n"
   ]
  },
  {
   "cell_type": "markdown",
   "metadata": {},
   "source": [
    "### Example: Sorting IP Addresses\n",
    "Let's use lambda functions to sort a list of IP addresses by their last octet."
   ]
  },
  {
   "cell_type": "code",
   "execution_count": 2,
   "metadata": {
    "trusted": true
   },
   "outputs": [
    {
     "name": "stdout",
     "output_type": "stream",
     "text": [
      "Sorted IPs: ['192.168.1.5', '192.168.1.10', '192.168.1.25']\n"
     ]
    }
   ],
   "source": [
    "ip_addresses = [\"192.168.1.10\", \"192.168.1.5\", \"192.168.1.25\"]\n",
    "\n",
    "# Sort IPs by the last octet using a lambda function\n",
    "sorted_ips = sorted(ip_addresses, key=lambda ip: int(ip.split(\".\")[-1]))\n",
    "print(f\"Sorted IPs: {sorted_ips}\")\n"
   ]
  },
  {
   "cell_type": "markdown",
   "metadata": {},
   "source": [
    "### Example 2: Filtering Logs Using Lambda Functions\n",
    "You can also use lambda functions for quick, one-line filtering of log entries.\n",
    "\n"
   ]
  },
  {
   "cell_type": "code",
   "execution_count": 4,
   "metadata": {
    "trusted": true
   },
   "outputs": [
    {
     "name": "stdout",
     "output_type": "stream",
     "text": [
      "Error Logs: ['error in system']\n"
     ]
    }
   ],
   "source": [
    "logs = [\"error in system\", \"attack detected\", \"normal operation\", \"malware found\"]\n",
    "\n",
    "# Use lambda to filter logs containing \"error\"\n",
    "error_logs = list(filter(lambda log: \"error\" in log, logs))\n",
    "print(f\"Error Logs: {error_logs}\")\n"
   ]
  },
  {
   "cell_type": "markdown",
   "metadata": {},
   "source": [
    "### Exercises"
   ]
  },
  {
   "cell_type": "markdown",
   "metadata": {},
   "source": [
    "Use a lambda function to create a list of the remainders when dividing each number from 1 to 10 by 3."
   ]
  },
  {
   "cell_type": "code",
   "execution_count": 8,
   "metadata": {},
   "outputs": [],
   "source": [
    "#write oyur code here\n",
    "# use function map \n",
    "\n",
    " "
   ]
  },
  {
   "cell_type": "markdown",
   "metadata": {},
   "source": [
    "Use a lambda function to sort a list of words by their last character."
   ]
  },
  {
   "cell_type": "code",
   "execution_count": 9,
   "metadata": {},
   "outputs": [],
   "source": [
    "list = [\"apple\", \"banana\", \"kiwi\", \"grape\"]\n",
    "#use function sorted"
   ]
  },
  {
   "cell_type": "markdown",
   "metadata": {},
   "source": [
    "Write a lambda function that takes an IP address and checks if the last octet is greater than 50. Use it to filter a list of IP addresses."
   ]
  },
  {
   "cell_type": "code",
   "execution_count": null,
   "metadata": {
    "trusted": true
   },
   "outputs": [],
   "source": [
    "#write your code here\n",
    "\n",
    "ip_addresses = [\n",
    "    \"192.168.1.1\", \"192.168.1.2\", \"192.168.1.3\", \"192.168.1.4\", \"192.168.1.5\",\n",
    "    \"192.168.2.1\", \"192.168.2.2\", \"192.168.2.3\", \"192.168.2.4\", \"192.168.2.5\",\n",
    "    \"10.0.0.1\", \"10.0.0.2\", \"10.0.0.3\", \"10.0.0.4\", \"10.0.0.5\",\n",
    "    \"10.1.0.1\", \"10.1.0.2\", \"10.1.0.3\", \"10.1.0.4\", \"10.1.0.5\",\n",
    "    \"172.16.0.1\", \"172.16.0.2\", \"172.16.0.3\", \"172.16.0.4\", \"172.16.0.5\",\n",
    "    \"172.16.1.1\", \"172.16.1.2\", \"172.16.1.3\", \"172.16.1.4\", \"172.16.1.5\",\n",
    "    \"192.168.10.1\", \"192.168.10.2\", \"192.168.10.3\", \"192.168.10.4\", \"192.168.10.5\",\n",
    "    \"192.168.11.1\", \"192.168.11.2\", \"192.168.11.3\", \"192.168.11.4\", \"192.168.11.5\",\n",
    "    \"192.168.100.1\", \"192.168.100.2\", \"192.168.100.3\", \"192.168.100.4\", \"192.168.100.5\",\n",
    "    \"10.10.1.1\", \"10.10.1.2\", \"10.10.1.3\", \"10.10.1.4\", \"10.10.1.5\",\n",
    "    \"172.20.0.1\", \"172.20.0.2\", \"172.20.0.3\", \"172.20.0.4\", \"172.20.0.5\",\n",
    "    \"10.0.10.1\", \"10.0.10.2\", \"10.0.10.3\", \"10.0.10.4\", \"10.0.10.5\",\n",
    "    \"192.168.50.1\", \"192.168.50.2\", \"192.168.50.3\", \"192.168.50.4\", \"192.168.50.5\",\n",
    "    \"172.30.1.1\", \"172.30.1.2\", \"172.30.1.3\", \"172.30.1.4\", \"172.30.1.5\",\n",
    "    \"10.100.0.1\", \"10.100.0.2\", \"10.100.0.3\", \"10.100.0.4\", \"10.100.0.5\",\n",
    "    \"192.168.200.1\", \"192.168.200.2\", \"192.168.200.3\", \"192.168.200.4\", \"192.168.200.5\",\n",
    "    \"10.200.1.1\", \"10.200.1.2\", \"10.200.1.3\", \"10.200.1.4\", \"10.200.1.5\",\n",
    "    \"172.18.2.1\", \"172.18.2.2\", \"172.18.2.3\", \"172.18.2.4\", \"172.18.2.5\",\n",
    "    \"10.10.10.10\", \"10.20.20.20\", \"192.168.100.100\", \"172.16.100.100\", \"172.20.100.100\",\n",
    "    \"10.0.20.20\", \"10.10.20.20\", \"192.168.30.30\", \"192.168.40.40\", \"172.18.1.100\",\n",
    "    \"192.168.0.100\", \"172.16.50.50\", \"172.16.60.60\", \"10.10.100.1\", \"10.0.0.10\"\n",
    "]"
   ]
  },
  {
   "cell_type": "markdown",
   "metadata": {},
   "source": [
    " Use a lambda function to sort a list of log entries by their length (longest first)."
   ]
  },
  {
   "cell_type": "code",
   "execution_count": 4,
   "metadata": {
    "trusted": true
   },
   "outputs": [],
   "source": [
    "#write your code here\n",
    "\n",
    "log_entries = [\n",
    "    \"10 192.168.1.1 alice failure\", \n",
    "    \"12 192.168.1.2 bob success\", \n",
    "    \"15 192.168.1.3 charlie failure\",\n",
    "    \"20 192.168.1.4 alice failure\", \n",
    "    \"22 192.168.2.1 bob failure\", \n",
    "    \"24 10.0.0.1 dave success\"\n",
    "]"
   ]
  },
  {
   "cell_type": "markdown",
   "metadata": {},
   "source": [
    "Conclusion\n",
    "The advanced concepts of recursive functions, higher-order functions and  lambda functions are powerful tools that can significantly improve the efficiency and flexibility of your code. These concepts allow for elegant solutions to complex problems in cybersecurity and cryptography, from password cracking and encryption to log filtering and traffic analysis.\n",
    "\n",
    "By mastering these techniques, you will be able to build more secure, reusable, and scalable software solutions in the cybersecurity domain."
   ]
  }
 ],
 "metadata": {
  "kernelspec": {
   "display_name": "Python 3",
   "language": "python",
   "name": "python3"
  },
  "language_info": {
   "codemirror_mode": {
    "name": "ipython",
    "version": 3
   },
   "file_extension": ".py",
   "mimetype": "text/x-python",
   "name": "python",
   "nbconvert_exporter": "python",
   "pygments_lexer": "ipython3",
   "version": "3.8.10"
  }
 },
 "nbformat": 4,
 "nbformat_minor": 4
}
