{
  "cells": [
    {
      "cell_type": "markdown",
      "metadata": {},
      "source": [
        "# List of exercises"
      ]
    },
    {
      "cell_type": "markdown",
      "metadata": {},
      "source": [
        "**1) Write a function even_or_odd(n) that takes an integer n and returns \"Even\" if the number is even and \"Odd\" if the number is odd.**"
      ]
    },
    {
      "cell_type": "code",
      "execution_count": 276,
      "metadata": {
        "trusted": true
      },
      "outputs": [],
      "source": [
        "## write your code \n",
        "def even_or_odd(n):\n",
        "    if n % 2 == 1:\n",
        "        print(f\"El numero {n} es impar\")\n",
        "    else:\n",
        "        print(f\"El numero {n} es par\")\n",
        "try:\n",
        "\n",
        "    n = int(input(\"Introduce un numero entero: \"))\n",
        "    if n < 1:\n",
        "        print(\"Por favor, introduce solamente numeros positivos\")\n",
        "    else:\n",
        "        even_or_odd(n)\n",
        "except ValueError:\n",
        "    print(\"El valor introducido no es un numero entero\")"
      ]
    },
    {
      "cell_type": "markdown",
      "metadata": {},
      "source": [
        "**2) Write a function find_largest(lst) that takes a list of integers and returns the largest number in the list.**"
      ]
    },
    {
      "cell_type": "code",
      "execution_count": 379,
      "metadata": {
        "trusted": true
      },
      "outputs": [
        {
          "name": "stdout",
          "output_type": "stream",
          "text": [
            "El número más grande es: 23\n"
          ]
        }
      ],
      "source": [
        "def find_largest(lst):\n",
        "    if len(lst) == 0:\n",
        "        print(\"La lista está vacía\")\n",
        "        return\n",
        "    mayor = lst[0]  # Inicializamos con el primer elemento de la lista\n",
        "    for numero in lst:\n",
        "        if numero > mayor:\n",
        "            mayor = numero\n",
        "    print(f\"El número más grande es: {mayor}\")\n",
        "\n",
        "# Convertimos la entrada del usuario en una lista de enteros\n",
        "lst = input(\"Introduce una lista de valores enteros separados por comas: \")\n",
        "lst = [int(x) for x in lst.split(\",\")]  # Convertimos la cadena a una lista de enteros\n",
        "\n",
        "# Llamamos a la función\n",
        "find_largest(lst)\n",
        "\n",
        "#Con ayuda, me daba palo xD"
      ]
    },
    {
      "cell_type": "markdown",
      "metadata": {},
      "source": [
        "**3) Write a function sum_of_numbers(lst) that calculates the sum of all the numbers in a list.**"
      ]
    },
    {
      "cell_type": "code",
      "execution_count": 3,
      "metadata": {
        "trusted": true
      },
      "outputs": [
        {
          "name": "stdout",
          "output_type": "stream",
          "text": [
            "La suma da 24\n"
          ]
        }
      ],
      "source": [
        "## write your code here \n",
        "def sum_of_numbers(lst):\n",
        "    suma = 0\n",
        "    for numero in lst:\n",
        "        suma += numero \n",
        "    print(f\"La suma da {suma}\")\n",
        "lst = input(\"Introduce una lista de valores enteros separados por comas: \")\n",
        "lst = [int(numero) for numero in lst.split(\",\")]\n",
        "sum_of_numbers(lst)"
      ]
    },
    {
      "cell_type": "markdown",
      "metadata": {},
      "source": [
        "**4) Write a function count_vowels(s) that takes a string s and counts how many vowels (a, e, i, o, u) are in the string.**"
      ]
    },
    {
      "cell_type": "code",
      "execution_count": 116,
      "metadata": {
        "trusted": true
      },
      "outputs": [
        {
          "name": "stdout",
          "output_type": "stream",
          "text": [
            "Tiene 3 vocales\n"
          ]
        }
      ],
      "source": [
        "## write your code here \n",
        "vowels = (\"a\", \"e\", \"i\", \"o\", \"u\")\n",
        "\n",
        "def count_vowels(s):\n",
        "    global vowels\n",
        "    contador = 0\n",
        "    for letra  in s:\n",
        "        if letra.lower() in vowels:\n",
        "            contador += 1\n",
        "    return f\"Tiene {contador} vocales\"\n",
        "\n",
        "s = input(\"Introduce una palabra: \")\n",
        "print(count_vowels(s))"
      ]
    },
    {
      "cell_type": "markdown",
      "metadata": {},
      "source": [
        "**5) Write a function find_primes(start, end) that finds all prime numbers between start and end (inclusive).**"
      ]
    },
    {
      "cell_type": "code",
      "execution_count": 210,
      "metadata": {
        "trusted": true
      },
      "outputs": [
        {
          "name": "stdout",
          "output_type": "stream",
          "text": [
            "Números primos entre 1 y 10: [2, 3, 5, 7]\n"
          ]
        }
      ],
      "source": [
        "def is_prime(n):\n",
        "    if n <= 1:\n",
        "        return False\n",
        "    for i in range(2, int(n ** 0.5) + 1):\n",
        "        if n % i == 0:\n",
        "            return False\n",
        "    return True\n",
        "\n",
        "def find_primes(start, end):\n",
        "    primes = []\n",
        "    for num in range(start, end + 1):\n",
        "        if is_prime(num):\n",
        "            primes.append(num)\n",
        "    return primes\n",
        "\n",
        "# Solicitar entrada del usuario\n",
        "user_input = input(\"Introduce el rango (start end), separados por un espacio: \")\n",
        "start, end = map(int, user_input.split())\n",
        "\n",
        "# Obtener y mostrar los números primos\n",
        "primes = find_primes(start, end)\n",
        "print(f\"Números primos entre {start} y {end}: {primes}\")\n",
        "\n",
        "#En este caso no he puesto try except para que sea mas facil de entender pero\n",
        "#HECHO CON AYUDA, REPASARRR!!!!!!!!!!!!1 <----------------------------------------------- \n"
      ]
    },
    {
      "cell_type": "markdown",
      "metadata": {},
      "source": [
        "**6) Write a function multiplication_table(n) that prints the multiplication table for a given number n.**"
      ]
    },
    {
      "cell_type": "code",
      "execution_count": 307,
      "metadata": {
        "trusted": true
      },
      "outputs": [
        {
          "name": "stdout",
          "output_type": "stream",
          "text": [
            "4 x 1 = 4\n",
            "4 x 2 = 8\n",
            "4 x 3 = 12\n",
            "4 x 4 = 16\n",
            "4 x 5 = 20\n",
            "4 x 6 = 24\n",
            "4 x 7 = 28\n",
            "4 x 8 = 32\n",
            "4 x 9 = 36\n",
            "4 x 10 = 40\n"
          ]
        }
      ],
      "source": [
        "## write your code here\n",
        "def multiplication_table(n):\n",
        "    print(f\"Tabla del {n}:\")\n",
        "    for num in range(10):\n",
        "        print(f\"{n} x {num + 1} = {n * (num + 1)}\")\n",
        "try: \n",
        "    n = int(input(\"Introduce un valor entero: \"))   \n",
        "    multiplication_table(n)\n",
        "except ValueError:\n",
        "    print(\"Introduce solamente valores numericos enteros\")    \n",
        "\n",
        "#Ta perfecto y a la primera :D"
      ]
    },
    {
      "cell_type": "markdown",
      "metadata": {},
      "source": [
        "**7) Write a function factorial(n) that calculates the factorial of a number using a loop.**"
      ]
    },
    {
      "cell_type": "code",
      "execution_count": 533,
      "metadata": {
        "trusted": true
      },
      "outputs": [
        {
          "name": "stdout",
          "output_type": "stream",
          "text": [
            "El factorial es: 3628800\n"
          ]
        }
      ],
      "source": [
        "## write your code here\n",
        "def function_factorial(n):\n",
        "    factorial = 1\n",
        "    for num in range (1, n):\n",
        "        factorial = factorial * (num + 1)\n",
        "    return factorial\n",
        "try:\n",
        "    n = int(input(\"Introduce un numero: \"))\n",
        "    print(f\"El factorial es: {function_factorial(n)}\")\n",
        "except ValueError:\n",
        "    print(\"Introduce solo valores enteros\")"
      ]
    },
    {
      "cell_type": "markdown",
      "metadata": {},
      "source": [
        "**8) Write a function fizzbuzz() that prints the numbers from 1 to 50. But for multiples of 3, print \"Fizz\", for multiples of 5, print \"Buzz\", and for multiples of both 3 and 5, print \"FizzBuzz\".**"
      ]
    },
    {
      "cell_type": "code",
      "execution_count": 604,
      "metadata": {
        "trusted": true
      },
      "outputs": [
        {
          "name": "stdout",
          "output_type": "stream",
          "text": [
            "1\n",
            "2\n",
            "Fizz\n",
            "4\n",
            "Buzz\n",
            "Fizz\n",
            "7\n",
            "8\n",
            "Fizz\n",
            "Buzz\n",
            "11\n",
            "Fizz\n",
            "13\n",
            "14\n",
            "FizzBuzz\n",
            "16\n",
            "17\n",
            "Fizz\n",
            "19\n",
            "Buzz\n",
            "Fizz\n",
            "22\n",
            "23\n",
            "Fizz\n",
            "Buzz\n",
            "26\n",
            "Fizz\n",
            "28\n",
            "29\n",
            "FizzBuzz\n",
            "31\n",
            "32\n",
            "Fizz\n",
            "34\n",
            "Buzz\n",
            "Fizz\n",
            "37\n",
            "38\n",
            "Fizz\n",
            "Buzz\n",
            "41\n",
            "Fizz\n",
            "43\n",
            "44\n",
            "FizzBuzz\n",
            "46\n",
            "47\n",
            "Fizz\n",
            "49\n",
            "Buzz\n"
          ]
        }
      ],
      "source": [
        "# write your code here\n",
        "def fizzbuzz():\n",
        "    for number in range(1, 51):\n",
        "        if number % 3 == 0 and number % 5 != 0:\n",
        "            print(\"Fizz\")\n",
        "        elif number % 3 != 0 and number % 5 == 0:\n",
        "            print(\"Buzz\")\n",
        "        elif number % 3 == 0 and number % 5 == 0:\n",
        "            print(\"FizzBuzz\")\n",
        "        else:\n",
        "            print(number)\n",
        "fizzbuzz()\n",
        "\n",
        "#A la primera"
      ]
    },
    {
      "cell_type": "markdown",
      "metadata": {},
      "source": [
        "**9) Write a function find_min_max(lst) that returns both the smallest and largest number in a list.**"
      ]
    },
    {
      "cell_type": "code",
      "execution_count": 657,
      "metadata": {
        "trusted": true
      },
      "outputs": [
        {
          "name": "stdout",
          "output_type": "stream",
          "text": [
            "Número mínimo: 1.0, Número máximo: 10.0\n"
          ]
        }
      ],
      "source": [
        "def find_min_max(lst):\n",
        "    if not lst:  # Verifica si la lista está vacía\n",
        "        return None, None  # Devuelve None si la lista está vacía\n",
        "    min_num = lst[0]  # Inicializa min_num con el primer elemento de la lista\n",
        "    max_num = lst[0]  # Inicializa max_num con el primer elemento de la lista\n",
        "    for num in lst:\n",
        "        if num < min_num:\n",
        "            min_num = num  # Actualiza min_num si se encuentra un número más pequeño\n",
        "        if num > max_num:\n",
        "            max_num = num  # Actualiza max_num si se encuentra un número más grande\n",
        "    return min_num, max_num  # Devuelve una tupla con el número mínimo y máximo\n",
        "\n",
        "# Solicitar entrada del usuario\n",
        "try:\n",
        "    user_input = input(\"Introduce una lista de números separados por espacios: \")\n",
        "    numbers = list(map(float, user_input.split()))  # Convierte la entrada a una lista de números\n",
        "    min_num, max_num = find_min_max(numbers)\n",
        "    if min_num is None and max_num is None:\n",
        "        print(\"La lista está vacía.\")\n",
        "    else:\n",
        "        print(f\"Número mínimo: {min_num}, Número máximo: {max_num}\")\n",
        "except ValueError:\n",
        "    print(\"Introduce solo números válidos.\")\n",
        "\n",
        "#HECHO CON AYUDA, REPASARRR!!!!!!!!!!!!1 <----------------------------------------------------------------------------------------------\n"
      ]
    },
    {
      "cell_type": "markdown",
      "metadata": {},
      "source": [
        "**10) Write a function reverse_list(lst) that takes a list and returns a new list that is the reverse of the input list.**"
      ]
    },
    {
      "cell_type": "code",
      "execution_count": 658,
      "metadata": {
        "trusted": true
      },
      "outputs": [],
      "source": [
        "# write your code here"
      ]
    },
    {
      "cell_type": "markdown",
      "metadata": {},
      "source": [
        "**11) Write a function that categorizes a person's age into three groups:**\n",
        "\n",
        "* \"Child\" if age is less than 12, \n",
        "* \"Teenager\" if age is between 12 and 18 (inclusive),\n",
        "* \"Adult\" if age is greater than 18."
      ]
    },
    {
      "cell_type": "code",
      "execution_count": 791,
      "metadata": {
        "trusted": true
      },
      "outputs": [
        {
          "name": "stdout",
          "output_type": "stream",
          "text": [
            "You are a Teenager\n"
          ]
        }
      ],
      "source": [
        "# write your code here\n",
        "def categorizeAge(age):\n",
        "    if age < 12 and age >= 1:\n",
        "        return \"Child\"\n",
        "    elif age >= 12 and age <= 18:\n",
        "        return \"Teenager\"\n",
        "    elif age > 18:\n",
        "        return \"Adult\"\n",
        "\n",
        "try:\n",
        "    age = int(input(\"Introduce tu edad: \"))\n",
        "    if categorizeAge(age) == None:\n",
        "        print(\"Introduce una edad real\")\n",
        "    else:\n",
        "        print(f\"You are a {categorizeAge(age)}\")\n",
        "except ValueError:\n",
        "    print(\"Introduce solo valores numericos enteros\")\n",
        "\n",
        "    #A la primeraaa y optimizadaa"
      ]
    },
    {
      "cell_type": "markdown",
      "metadata": {},
      "source": [
        "**12) Write a function that prints all multiples of n between 1 and 30.**"
      ]
    },
    {
      "cell_type": "code",
      "execution_count": 21,
      "metadata": {
        "trusted": true
      },
      "outputs": [
        {
          "name": "stdout",
          "output_type": "stream",
          "text": [
            "15 es múltiple de 15\n",
            "30 es múltiple de 15\n"
          ]
        }
      ],
      "source": [
        "# write your code here\n",
        "def calculateMultiples(n):\n",
        "    for number in range(1, 31):\n",
        "        if number % n == 0:\n",
        "            print(f\"{number} es múltiple de {n}\")\n",
        "try:\n",
        "    n = int(input(\"Introduce un valor entero: \"))\n",
        "    calculateMultiples(n)\n",
        "except ValueError:\n",
        "    print(\"Introduce solo valores numericos enteros\")"
      ]
    },
    {
      "cell_type": "markdown",
      "metadata": {},
      "source": [
        "**13) Write a function area_of_circle(radius) that calculates and returns the area of a circle, given the radius. Use the formula:\n",
        "Area = π * radius^2 (Use π = 3.14159).**"
      ]
    },
    {
      "cell_type": "code",
      "execution_count": 31,
      "metadata": {
        "trusted": true
      },
      "outputs": [
        {
          "name": "stdout",
          "output_type": "stream",
          "text": [
            "The area is 12.56636\n"
          ]
        }
      ],
      "source": [
        "# write your code here\n",
        "π = 3.14159\n",
        "def area_of_circle(radius):\n",
        "    global π\n",
        "    area = π * radius ** 2\n",
        "    return area\n",
        "radius = float(input(\"Introduce el radio: \"))\n",
        "print(f\"The area is {area_of_circle(radius)}\")\n",
        "\n",
        "#A la primera soy un genio siusiu"
      ]
    },
    {
      "cell_type": "markdown",
      "metadata": {},
      "source": [
        "**14) Write a function find_largest(a, b, c) that takes three numbers as arguments and returns the largest one.**"
      ]
    },
    {
      "cell_type": "code",
      "execution_count": 57,
      "metadata": {
        "trusted": true
      },
      "outputs": [
        {
          "name": "stdout",
          "output_type": "stream",
          "text": [
            "The largest number is 25\n"
          ]
        }
      ],
      "source": [
        "# write your code here\n",
        "def find_largest(a, b, c):\n",
        "    largest = 0\n",
        "    for number in (a, b, c):\n",
        "        if number > largest:\n",
        "            largest = number\n",
        "    return largest\n",
        "\n",
        "numbers = (10, 25, 20)\n",
        "largest = find_largest(*numbers)\n",
        "print(f\"The largest number is {largest}\")\n",
        "#Con un poco de ayuda"
      ]
    },
    {
      "cell_type": "markdown",
      "metadata": {},
      "source": [
        "**15)Write a function fahrenheit_to_celsius(fahrenheit) that converts a given temperature from Fahrenheit to Celsius using the formula:\n",
        "Celsius = (Fahrenheit - 32) * 5/9**"
      ]
    },
    {
      "cell_type": "code",
      "execution_count": 93,
      "metadata": {
        "trusted": true
      },
      "outputs": [
        {
          "name": "stdout",
          "output_type": "stream",
          "text": [
            "La temperatura en celsius es 537.7777777777778\n"
          ]
        }
      ],
      "source": [
        "# write your code here\n",
        "def fahrenheit_to_celsius(fahrenheit):\n",
        "    celsius = (fahrenheit -32) * 5 / 9\n",
        "    return celsius\n",
        "\n",
        "fahrenheit = float(input(\"Introduce la temperatura en fahrenheit: \"))\n",
        "print(f\"La temperatura en celsius es {fahrenheit_to_celsius(fahrenheit)}\")\n",
        "#Taba fasil\n"
      ]
    },
    {
      "cell_type": "markdown",
      "metadata": {},
      "source": [
        "**16) Each new term in the Fibonacci sequence is generated by adding the previous two terms. By starting with 1 and 2 , the first 10 terms will be:**\n",
        "\n",
        "1, 2, 3, 5, 8, 13, 21, 24, 55, 89...\n",
        "\n",
        "**By considering the terms in the Fibonacci sequence whose values do not exceed four million, find the sum of the even-valued terms.**"
      ]
    },
    {
      "cell_type": "code",
      "execution_count": 119,
      "metadata": {
        "trusted": true
      },
      "outputs": [
        {
          "name": "stdout",
          "output_type": "stream",
          "text": [
            "The sum of the even-valued terms is 4613732\n"
          ]
        }
      ],
      "source": [
        "# Inicializar las variables\n",
        "a, b = 1, 2  # Primeros dos términos de la secuencia de Fibonacci\n",
        "sum_even = 0  # Suma de los términos pares\n",
        "\n",
        "# Bucle para generar los términos de la secuencia de Fibonacci\n",
        "while a <= 4000000:\n",
        "    if a % 2 == 0:  # Verificar si el término es par\n",
        "        sum_even += a  # Sumar el término par a la suma total\n",
        "    a, b = b, a + b  # Generar el siguiente término de la secuencia\n",
        "\n",
        "# Imprimir el resultado\n",
        "print(f\"The sum of the even-valued terms is {sum_even}\")\n",
        "\n",
        "#Hecho con ayuda"
      ]
    },
    {
      "cell_type": "raw",
      "metadata": {},
      "source": [
        "expected output:\n",
        "\n",
        "The sum of the even-valued terms is 4613732"
      ]
    },
    {
      "cell_type": "markdown",
      "metadata": {},
      "source": [
        "**17) The prime factors of 13195 are 5,7,13 and 29. What is the largest prime factor of the number 600851475143?** "
      ]
    },
    {
      "cell_type": "code",
      "execution_count": 120,
      "metadata": {
        "trusted": true
      },
      "outputs": [],
      "source": [
        "# write your code here"
      ]
    },
    {
      "cell_type": "raw",
      "metadata": {},
      "source": [
        "expected output\n",
        "the largest prime factor of  600851475143 is 6857"
      ]
    },
    {
      "cell_type": "markdown",
      "metadata": {},
      "source": [
        "**18) A palindromic number reads the same both ways. The largest palindrome made from the product of two \n",
        "2-digit numbers is 9009 = 91x99. Find the largest palindrome made from the product of two \n",
        "-digit numbers.**"
      ]
    },
    {
      "cell_type": "code",
      "execution_count": 121,
      "metadata": {
        "trusted": true
      },
      "outputs": [],
      "source": [
        "# write your code here"
      ]
    },
    {
      "cell_type": "raw",
      "metadata": {},
      "source": [
        "Expected output:\n",
        "The largest palindrome made from the product of two 3-digit numbers is 906609"
      ]
    },
    {
      "cell_type": "markdown",
      "metadata": {},
      "source": [
        "**19) 2520 is the smallest number that can be divided by each of the numbers from 1 to 10 without any remainder. What is the smallest positive number that is evenly divisible by all of the numbers from 1 to 20?**"
      ]
    },
    {
      "cell_type": "code",
      "execution_count": 122,
      "metadata": {
        "trusted": true
      },
      "outputs": [],
      "source": [
        "# write your code here"
      ]
    },
    {
      "cell_type": "raw",
      "metadata": {},
      "source": [
        "Expected output:\n",
        "The smallest positive number that is evenly divisible by all of the numbers from 1 to 20 is 232792560"
      ]
    },
    {
      "cell_type": "markdown",
      "metadata": {},
      "source": [
        "**20) The sum of the squares of the first ten natural numbers is**\n",
        "$1^2+2^2+...+10^2=385.$\n",
        "\n",
        "**The square of the sum of the first ten natural numbers is**\n",
        " $(1+2+...+10)^2=55^2=3025.$\n",
        "\n",
        "**Hence the difference between the sum of the squares of the first ten natural numbers and the square of the sum is** $3025−385=2640$.\n",
        "\n",
        "**Find the difference between the sum of the squares of the first one hundred natural numbers and the square of the sum.**"
      ]
    },
    {
      "cell_type": "code",
      "execution_count": 123,
      "metadata": {
        "trusted": true
      },
      "outputs": [],
      "source": [
        "#write your cod ehere"
      ]
    },
    {
      "cell_type": "raw",
      "metadata": {},
      "source": [
        "Expected output: 25164150"
      ]
    },
    {
      "cell_type": "markdown",
      "metadata": {},
      "source": [
        "**21) By listing the first six prime numbers: 2, 3, 5, 7, 11, and 13, we can see that the 6th prime is 13. What is the 10 001st prime number?**"
      ]
    },
    {
      "cell_type": "code",
      "execution_count": 124,
      "metadata": {
        "trusted": true
      },
      "outputs": [],
      "source": [
        "### write your code here"
      ]
    },
    {
      "cell_type": "raw",
      "metadata": {},
      "source": [
        "expected output\n",
        "\n",
        "# The 10 001st prime number 104743"
      ]
    }
  ],
  "metadata": {
    "kernelspec": {
      "display_name": "Python 3",
      "language": "python",
      "name": "python3"
    },
    "language_info": {
      "codemirror_mode": {
        "name": "ipython",
        "version": 3
      },
      "file_extension": ".py",
      "mimetype": "text/x-python",
      "name": "python",
      "nbconvert_exporter": "python",
      "pygments_lexer": "ipython3",
      "version": "3.12.3"
    }
  },
  "nbformat": 4,
  "nbformat_minor": 4
}
