{
 "cells": [
  {
   "cell_type": "markdown",
   "metadata": {},
   "source": [
    "# Libraries and Modules in Python"
   ]
  },
  {
   "cell_type": "markdown",
   "metadata": {},
   "source": [
    "* **Definition:** What are libraries and modules in Python?\n",
    "* **Purpose:** Why we use libraries and modules (code reusability, organization, efficiency).\n",
    "* **Difference:** Modules are single Python files; libraries are collections of modules."
   ]
  },
  {
   "cell_type": "markdown",
   "metadata": {},
   "source": [
    "## 1. Creating and Using Modules"
   ]
  },
  {
   "cell_type": "markdown",
   "metadata": {},
   "source": [
    "**Basic Concept:**\n",
    "\n",
    "A module is any Python file that can be imported.\n",
    "\n",
    "Modules provide an easy way to organize components into a system"
   ]
  },
  {
   "cell_type": "markdown",
   "metadata": {},
   "source": [
    "**Example:** Create a file greetings.py:"
   ]
  },
  {
   "cell_type": "code",
   "execution_count": 3,
   "metadata": {
    "trusted": true
   },
   "outputs": [],
   "source": [
    "def say_hello(name):\n",
    "    return f\"Hello, {name}!\"\n",
    "\n",
    "def say_goodbye(name):\n",
    "    return f\"Goodbye, {name}!\""
   ]
  },
  {
   "cell_type": "code",
   "execution_count": 4,
   "metadata": {
    "trusted": true
   },
   "outputs": [
    {
     "ename": "ModuleNotFoundError",
     "evalue": "No module named 'greetings'",
     "output_type": "error",
     "traceback": [
      "\u001b[0;31m---------------------------------------------------------------------------\u001b[0m",
      "\u001b[0;31mModuleNotFoundError\u001b[0m                       Traceback (most recent call last)",
      "Cell \u001b[0;32mIn[4], line 1\u001b[0m\n\u001b[0;32m----> 1\u001b[0m \u001b[38;5;28;01mimport\u001b[39;00m \u001b[38;5;21;01mgreetings\u001b[39;00m\n\u001b[1;32m      3\u001b[0m \u001b[38;5;28mprint\u001b[39m(greetings\u001b[38;5;241m.\u001b[39msay_hello(\u001b[38;5;124m\"\u001b[39m\u001b[38;5;124mAlice\u001b[39m\u001b[38;5;124m\"\u001b[39m))\n\u001b[1;32m      4\u001b[0m \u001b[38;5;28mprint\u001b[39m(greetings\u001b[38;5;241m.\u001b[39msay_goodbye(\u001b[38;5;124m\"\u001b[39m\u001b[38;5;124mBob\u001b[39m\u001b[38;5;124m\"\u001b[39m))\n",
      "\u001b[0;31mModuleNotFoundError\u001b[0m: No module named 'greetings'"
     ]
    }
   ],
   "source": [
    "import greetings\n",
    "\n",
    "print(greetings.say_hello(\"Alice\"))\n",
    "print(greetings.say_goodbye(\"Bob\"))"
   ]
  },
  {
   "cell_type": "markdown",
   "metadata": {},
   "source": [
    "### Exercise 1.1"
   ]
  },
  {
   "cell_type": "markdown",
   "metadata": {},
   "source": [
    "**Task:** Create a Python module named string_utils.py that contains the following functions:\n",
    "\n",
    "* count_vowels(text): Counts the number of vowels in a given string.\n",
    "* reverse_string(text): Reverses the given string.\n",
    "\n",
    "\n",
    "**Instructions:**\n",
    "\n",
    "Implement the module and write the functions.\n",
    "Create a separate script to import string_utils and test the functions with sample inputs."
   ]
  },
  {
   "cell_type": "code",
   "execution_count": 5,
   "metadata": {
    "trusted": true
   },
   "outputs": [
    {
     "name": "stdout",
     "output_type": "stream",
     "text": [
      "El número de vocales en 'Hello, World!' es: 3\n",
      "La cadena invertida de 'Hello, World!' es: '!dlroW ,olleH'\n"
     ]
    }
   ],
   "source": [
    "import string_utils\n",
    "\n",
    "text = \"Hello, World!\"\n",
    "vowel_count = string_utils.count_vowels(text)\n",
    "print(f\"El número de vocales en '{text}' es: {vowel_count}\")\n",
    "1\n",
    "reversed_text = string_utils.reverse_string(text)\n",
    "print(f\"La cadena invertida de '{text}' es: '{reversed_text}'\")\n",
    "\n",
    "#:D\n",
    "\n"
   ]
  },
  {
   "cell_type": "markdown",
   "metadata": {},
   "source": [
    "### Exercise 1.2"
   ]
  },
  {
   "cell_type": "markdown",
   "metadata": {},
   "source": [
    "**Task:** Create a module named math_operations.py that contains:\n",
    "\n",
    "* *add(a, b):* Returns the sum of a and b.\n",
    "* *subtract(a, b):* Returns the difference between a and b.\n",
    "* *multiply(a, b):* Returns the product of a and b.\n",
    "* *divide(a, b):* Returns the result of dividing a by b (handle division by zero).\n",
    "\n",
    "**Instructions:**\n",
    "\n",
    "Implement the module and include error handling for division.\n",
    "Create a script to import the module and test all the functions with various values."
   ]
  },
  {
   "cell_type": "code",
   "execution_count": 59,
   "metadata": {
    "trusted": true
   },
   "outputs": [
    {
     "name": "stdout",
     "output_type": "stream",
     "text": [
      "Suma de 10 y 5: 15\n",
      "Resta de 10 y 5: 5\n",
      "Multiplicación de 10 y 5: 50\n",
      "División de 10 entre 5: 2.0\n",
      "División de 10 entre 0: Error: División entre cero\n"
     ]
    }
   ],
   "source": [
    "\n",
    "import importlib\n",
    "import math_operations\n",
    "\n",
    "\n",
    "importlib.reload(math_operations)\n",
    "\n",
    "a = 10\n",
    "b = 5\n",
    "c = 0\n",
    "\n",
    "print(f\"Suma de {a} y {b}: {math_operations.add(a, b)}\")\n",
    "print(f\"Resta de {a} y {b}: {math_operations.subtract(a, b)}\")\n",
    "print(f\"Multiplicación de {a} y {b}: {math_operations.multiply(a, b)}\")\n",
    "print(f\"División de {a} entre {b}: {math_operations.divide(a, b)}\")\n",
    "print(f\"División de {a} entre {c}: {math_operations.divide(a, c)}\")\n"
   ]
  },
  {
   "cell_type": "markdown",
   "metadata": {},
   "source": [
    "### Exercise 1.3"
   ]
  },
  {
   "cell_type": "markdown",
   "metadata": {},
   "source": [
    "**Task:** Create a module named log_analyzer.py that includes:\n",
    "\n",
    "* *count_failed_logins(logs)*: Accepts a list of log entries and returns the number of failed login attempts.\n",
    "* *list_failed_ips(logs)*: Returns a list of unique IPs with failed login attempts.\n",
    "\n",
    "\n",
    "**Instructions:**\n",
    "\n",
    "Write the module and implement both functions.\n",
    "Create a script to import log_analyzer and test it using a sample list of log entries.\n",
    "\n",
    "\n",
    "**Sample Logs:**"
   ]
  },
  {
   "cell_type": "code",
   "execution_count": 60,
   "metadata": {
    "trusted": true
   },
   "outputs": [],
   "source": [
    "logs = [\n",
    "    \"192.168.1.1:success\", \"192.168.1.2:failure\", \"192.168.1.3:failure\", \n",
    "    \"192.168.1.4:success\", \"192.168.1.2:failure\"\n",
    "]\n"
   ]
  },
  {
   "cell_type": "code",
   "execution_count": 61,
   "metadata": {
    "trusted": true
   },
   "outputs": [
    {
     "name": "stdout",
     "output_type": "stream",
     "text": [
      "Number of failed login attempts: 3\n",
      "Unique IPs with failed logins: ['192.168.1.3', '192.168.1.2']\n"
     ]
    }
   ],
   "source": [
    "logs = [\n",
    "    \"192.168.1.1:success\", \"192.168.1.2:failure\", \"192.168.1.3:failure\",\n",
    "    \"192.168.1.4:success\", \"192.168.1.2:failure\"\n",
    "]\n",
    "\n",
    "def count_failed_logins(logs):\n",
    "    return sum(1 for log in logs if \"failure\" in log)\n",
    "\n",
    "def list_failed_ips(logs):\n",
    "    return list({log.split(\":\")[0] for log in logs if \"failure\" in log})\n",
    "\n",
    "print(f\"Number of failed login attempts: {count_failed_logins(logs)}\")\n",
    "print(f\"Unique IPs with failed logins: {list_failed_ips(logs)}\")"
   ]
  },
  {
   "cell_type": "markdown",
   "metadata": {},
   "source": [
    "### Exercise 1.4"
   ]
  },
  {
   "cell_type": "markdown",
   "metadata": {},
   "source": [
    "**Task:** Create a module named temperature_converter.py that includes:\n",
    "\n",
    "* *celsius_to_fahrenheit(celsius):* Converts a Celsius temperature to Fahrenheit.\n",
    "* *fahrenheit_to_celsius(fahrenheit):* Converts a Fahrenheit temperature to Celsius.\n",
    "\n",
    "**Instructions:**\n",
    "\n",
    "Write the module and implement the conversion functions.\n",
    "Create a script that imports temperature_converter and tests it with different temperature values."
   ]
  },
  {
   "cell_type": "code",
   "execution_count": 62,
   "metadata": {
    "trusted": true
   },
   "outputs": [
    {
     "name": "stdout",
     "output_type": "stream",
     "text": [
      "Formated 30 celsius are 86.0\n",
      "Formated 80 fahrengeit are 26.666666666666668\n"
     ]
    }
   ],
   "source": [
    "def celsius_to_fahrenheit(celsius):\n",
    "    return (celsius * 9/5) + 32\n",
    "\n",
    "def fahrenheit_to_celsius(fahrenheit):\n",
    "    return (fahrenheit - 32) * 5/9\n",
    "\n",
    "print(f\"Formated 30 celsius are {celsius_to_fahrenheit(30)}\")\n",
    "print(f\"Formated 80 fahrengeit are {fahrenheit_to_celsius(80)}\")"
   ]
  },
  {
   "cell_type": "markdown",
   "metadata": {},
   "source": [
    "## 2. The Standard Library"
   ]
  },
  {
   "cell_type": "markdown",
   "metadata": {},
   "source": [
    "* **Overview:** Discuss common modules (math, datetime, os, random)."
   ]
  },
  {
   "cell_type": "markdown",
   "metadata": {},
   "source": [
    "### Datetime:\n",
    "\n",
    "The date contains year, month, day, hour, minute, second, and microsecond.\n",
    "\n",
    "The datetime module has many methods to return information about the date object."
   ]
  },
  {
   "cell_type": "code",
   "execution_count": 63,
   "metadata": {
    "trusted": true
   },
   "outputs": [
    {
     "name": "stdout",
     "output_type": "stream",
     "text": [
      "Current time: 2024-11-19 12:03:49.551500\n"
     ]
    }
   ],
   "source": [
    "from datetime import datetime\n",
    "\n",
    "now = datetime.now()\n",
    "print(f\"Current time: {now}\")"
   ]
  },
  {
   "cell_type": "code",
   "execution_count": 64,
   "metadata": {
    "trusted": true
   },
   "outputs": [
    {
     "name": "stdout",
     "output_type": "stream",
     "text": [
      "2024\n",
      "Tuesday\n"
     ]
    }
   ],
   "source": [
    "print(now.year)\n",
    "print(now.strftime(\"%A\"))"
   ]
  },
  {
   "cell_type": "markdown",
   "metadata": {},
   "source": [
    "To create a date, we can use the datetime() class (constructor) of the datetime module.\n",
    "\n",
    "The datetime() class requires three parameters to create a date: year, month, day."
   ]
  },
  {
   "cell_type": "code",
   "execution_count": 65,
   "metadata": {
    "trusted": true
   },
   "outputs": [
    {
     "name": "stdout",
     "output_type": "stream",
     "text": [
      "2020-05-17 00:00:00\n"
     ]
    }
   ],
   "source": [
    "x = datetime(2020, 5, 17)\n",
    "\n",
    "print(x)"
   ]
  },
  {
   "cell_type": "markdown",
   "metadata": {},
   "source": [
    "**The strftime() Method**\n",
    "    \n",
    "The datetime object has a method for formatting date objects into readable strings.\n",
    "\n",
    "The method is called strftime(), and takes one parameter, format, to specify the format of the returned string:"
   ]
  },
  {
   "cell_type": "code",
   "execution_count": 66,
   "metadata": {
    "trusted": true
   },
   "outputs": [
    {
     "name": "stdout",
     "output_type": "stream",
     "text": [
      "June\n"
     ]
    }
   ],
   "source": [
    "x = datetime(2018, 6, 1)\n",
    "\n",
    "print(x.strftime(\"%B\"))"
   ]
  },
  {
   "cell_type": "markdown",
   "metadata": {},
   "source": [
    "**Reference:** https://www.w3schools.com/python/python_datetime.asp"
   ]
  },
  {
   "cell_type": "markdown",
   "metadata": {},
   "source": [
    "### Exercise "
   ]
  },
  {
   "cell_type": "markdown",
   "metadata": {},
   "source": [
    "Write a script that uses the datetime module to print the current date and formats it as \"Day-Month-Year\"."
   ]
  },
  {
   "cell_type": "code",
   "execution_count": 67,
   "metadata": {
    "trusted": true
   },
   "outputs": [
    {
     "name": "stdout",
     "output_type": "stream",
     "text": [
      "19-11-2024\n"
     ]
    }
   ],
   "source": [
    "from datetime import datetime\n",
    "\n",
    "current_date = datetime.now()\n",
    "formatted_date = current_date.strftime(\"%d-%m-%Y\")\n",
    "print(formatted_date)\n"
   ]
  },
  {
   "cell_type": "markdown",
   "metadata": {},
   "source": [
    "### Math   - Basic library in math\n",
    "\n",
    "Provides mathematical functions beyond basic operators."
   ]
  },
  {
   "cell_type": "code",
   "execution_count": 68,
   "metadata": {
    "trusted": true
   },
   "outputs": [],
   "source": [
    "# How to import\n",
    "\n",
    "import math"
   ]
  },
  {
   "cell_type": "code",
   "execution_count": 69,
   "metadata": {
    "trusted": true
   },
   "outputs": [
    {
     "name": "stdout",
     "output_type": "stream",
     "text": [
      "Value of pi: 3.141592653589793\n",
      "Value of e: 2.718281828459045\n"
     ]
    }
   ],
   "source": [
    "print(\"Value of pi:\", math.pi)   # Value of pi\n",
    "print(\"Value of e:\", math.e)     # Value of e (Euler's number)"
   ]
  },
  {
   "cell_type": "markdown",
   "metadata": {},
   "source": [
    "**Basic functions:**\n",
    "* math.sqrt(x): Square root of x.\n",
    "* math.ceil(x): Rounds x up to the nearest integer.\n",
    "* math.floor(x): Rounds x down to the nearest integer."
   ]
  },
  {
   "cell_type": "code",
   "execution_count": 70,
   "metadata": {
    "trusted": true
   },
   "outputs": [
    {
     "name": "stdout",
     "output_type": "stream",
     "text": [
      "Square root of 16: 4.0\n",
      "Ceiling of 4.3: 5\n",
      "Floor of 4.7: 4\n"
     ]
    }
   ],
   "source": [
    "print(\"Square root of 16:\", math.sqrt(16))\n",
    "print(\"Ceiling of 4.3:\", math.ceil(4.3))\n",
    "print(\"Floor of 4.7:\", math.floor(4.7))\n"
   ]
  },
  {
   "cell_type": "markdown",
   "metadata": {},
   "source": [
    "**Trigonometric Functions** \n",
    "\n",
    "* math.sin(x), math.cos(x), math.tan(x): Trigonometric functions (angle x in radians).\n",
    "* math.asin(x), math.acos(x), math.atan(x): Inverse trigonometric functions."
   ]
  },
  {
   "cell_type": "code",
   "execution_count": 71,
   "metadata": {
    "trusted": true
   },
   "outputs": [
    {
     "name": "stdout",
     "output_type": "stream",
     "text": [
      "sin(45°): 0.7071067811865475\n",
      "cos(45°): 0.7071067811865476\n",
      "tan(45°): 0.9999999999999999\n"
     ]
    }
   ],
   "source": [
    "angle = math.pi / 4  # 45 degrees in radians\n",
    "print(\"sin(45°):\", math.sin(angle))\n",
    "print(\"cos(45°):\", math.cos(angle))\n",
    "print(\"tan(45°):\", math.tan(angle))\n"
   ]
  },
  {
   "cell_type": "markdown",
   "metadata": {},
   "source": [
    "### Random"
   ]
  },
  {
   "cell_type": "markdown",
   "metadata": {},
   "source": [
    "The random library is a built-in Python module used for generating pseudo-random numbers for various applications.\n",
    "\n",
    "Useful in simulations, gaming, sampling, cryptography (with caution), and more"
   ]
  },
  {
   "cell_type": "code",
   "execution_count": 72,
   "metadata": {
    "trusted": true
   },
   "outputs": [],
   "source": [
    "# Importing random\n",
    "\n",
    "import random"
   ]
  },
  {
   "cell_type": "markdown",
   "metadata": {},
   "source": [
    "**Generating Basic Random Numbers**"
   ]
  },
  {
   "cell_type": "code",
   "execution_count": 73,
   "metadata": {
    "trusted": true
   },
   "outputs": [
    {
     "name": "stdout",
     "output_type": "stream",
     "text": [
      "0.6817103690265748\n"
     ]
    }
   ],
   "source": [
    "print(random.random())  # Outputs a random float in the range [0.0, 1.0)"
   ]
  },
  {
   "cell_type": "code",
   "execution_count": 74,
   "metadata": {
    "trusted": true
   },
   "outputs": [
    {
     "name": "stdout",
     "output_type": "stream",
     "text": [
      "6.332732973679157\n"
     ]
    }
   ],
   "source": [
    "print(random.uniform(1.5, 10.5))  # Outputs a random float in the range [1.5, 10.5]"
   ]
  },
  {
   "cell_type": "code",
   "execution_count": 75,
   "metadata": {
    "trusted": true
   },
   "outputs": [
    {
     "name": "stdout",
     "output_type": "stream",
     "text": [
      "5\n"
     ]
    }
   ],
   "source": [
    "print(random.randint(1, 10))  # Outputs a random integer between 1 and 10 (inclusive)"
   ]
  },
  {
   "cell_type": "code",
   "execution_count": 76,
   "metadata": {
    "trusted": true
   },
   "outputs": [
    {
     "name": "stdout",
     "output_type": "stream",
     "text": [
      "5\n"
     ]
    }
   ],
   "source": [
    "print(random.randrange(1, 10, 2))  # Outputs a random number from the range [1, 3, 5, 7, 9]\n"
   ]
  },
  {
   "cell_type": "markdown",
   "metadata": {},
   "source": [
    " **Random Sequences and Choices**"
   ]
  },
  {
   "cell_type": "code",
   "execution_count": 77,
   "metadata": {
    "trusted": true
   },
   "outputs": [
    {
     "name": "stdout",
     "output_type": "stream",
     "text": [
      "apple\n"
     ]
    }
   ],
   "source": [
    "items = ['apple', 'banana', 'cherry', 'date']\n",
    "print(random.choice(items))  # Randomly selects one element from the list\n"
   ]
  },
  {
   "cell_type": "code",
   "execution_count": 78,
   "metadata": {
    "trusted": true
   },
   "outputs": [
    {
     "name": "stdout",
     "output_type": "stream",
     "text": [
      "['banana', 'apple', 'apple']\n"
     ]
    }
   ],
   "source": [
    "print(random.choices(items, k=3))  # Outputs a list of 3 random items (with replacement)\n"
   ]
  },
  {
   "cell_type": "code",
   "execution_count": 79,
   "metadata": {
    "trusted": true
   },
   "outputs": [
    {
     "name": "stdout",
     "output_type": "stream",
     "text": [
      "[4, 1, 5, 2, 3]\n"
     ]
    }
   ],
   "source": [
    "numbers = [1, 2, 3, 4, 5]\n",
    "random.shuffle(numbers)\n",
    "print(numbers)  # The original list is shuffled in place\n"
   ]
  },
  {
   "cell_type": "code",
   "execution_count": 80,
   "metadata": {
    "trusted": true
   },
   "outputs": [
    {
     "name": "stdout",
     "output_type": "stream",
     "text": [
      "['cherry', 'date']\n"
     ]
    }
   ],
   "source": [
    "print(random.sample(items, 2))  # Randomly selects 2 unique elements from the list\n"
   ]
  },
  {
   "cell_type": "markdown",
   "metadata": {},
   "source": [
    "### Example "
   ]
  },
  {
   "cell_type": "code",
   "execution_count": 81,
   "metadata": {
    "trusted": true
   },
   "outputs": [
    {
     "name": "stdout",
     "output_type": "stream",
     "text": [
      "Generated password: VsJp`]]4\n"
     ]
    }
   ],
   "source": [
    "import string\n",
    "\n",
    "def generate_password(length=8):\n",
    "    characters = string.ascii_letters + string.digits + string.punctuation\n",
    "    return ''.join(random.choices(characters, k=length))\n",
    "\n",
    "print(f\"Generated password: {generate_password()}\")\n"
   ]
  },
  {
   "cell_type": "markdown",
   "metadata": {},
   "source": [
    "**Setting the Random Seed**\n",
    "\n",
    "Why Use a Seed?\n",
    "\n",
    "* Ensures reproducibility of random numbers in experiments.\n",
    "* The same seed produces the same sequence of random numbers."
   ]
  },
  {
   "cell_type": "code",
   "execution_count": 82,
   "metadata": {
    "trusted": true
   },
   "outputs": [
    {
     "name": "stdout",
     "output_type": "stream",
     "text": [
      "0.6394267984578837\n"
     ]
    }
   ],
   "source": [
    "random.seed(42)\n",
    "print(random.random())  # Will output the same number if the seed is 42 each time\n"
   ]
  },
  {
   "cell_type": "markdown",
   "metadata": {},
   "source": [
    "### Exercise - Random Quiz Generator"
   ]
  },
  {
   "cell_type": "markdown",
   "metadata": {},
   "source": [
    "**Task:** Write a program that randomly selects and prints 5 unique questions from a list of 15 predefined questions. Ensure that each question is chosen only once.\n",
    "\n",
    "**Steps:**\n",
    "* Create a list of 15 different quiz questions.\n",
    "* Use random.sample() to select 5 questions from this list without repetition.\n",
    "* Print the selected questions."
   ]
  },
  {
   "cell_type": "raw",
   "metadata": {
    "vscode": {
     "languageId": "raw"
    }
   },
   "source": [
    "\"What is the capital of France?\"\n",
    "\"Who wrote the novel 1984?\"\n",
    "\"What is the largest planet in our solar system?\"\n",
    "\"Which element has the chemical symbol 'O'?\"\n",
    "\"What is the square root of 64?\"\n",
    "\"Who painted the Mona Lisa?\"\n",
    "\"In what year did World War II end?\"\n",
    "\"What is the name of the longest river in the world?\"\n",
    "\"Which language is the most spoken worldwide?\"\n",
    "\"Who discovered penicillin?\"\n",
    "\"How many continents are there on Earth?\"\n",
    "\"What is the chemical symbol for gold?\"\n",
    "\"What is the highest mountain in the world?\"\n",
    "\"Which planet is known as the Red Planet?\"\n",
    "\"What is the name of the largest ocean on Earth?\""
   ]
  },
  {
   "cell_type": "code",
   "execution_count": 83,
   "metadata": {
    "trusted": true
   },
   "outputs": [
    {
     "name": "stdout",
     "output_type": "stream",
     "text": [
      "What is the capital of France?\n",
      "What is the chemical symbol for gold?\n",
      "What is the square root of 64?\n",
      "Which element has the chemical symbol 'O'?\n",
      "Which planet is known as the Red Planet?\n"
     ]
    }
   ],
   "source": [
    "import random\n",
    "\n",
    "questions = [\n",
    "    \"What is the capital of France?\",\n",
    "    \"Who wrote the novel 1984?\",\n",
    "    \"What is the largest planet in our solar system?\",\n",
    "    \"Which element has the chemical symbol 'O'?\",\n",
    "    \"What is the square root of 64?\",\n",
    "    \"Who painted the Mona Lisa?\",\n",
    "    \"In what year did World War II end?\",\n",
    "    \"What is the name of the longest river in the world?\",\n",
    "    \"Which language is the most spoken worldwide?\",\n",
    "    \"Who discovered penicillin?\",\n",
    "    \"How many continents are there on Earth?\",\n",
    "    \"What is the chemical symbol for gold?\",\n",
    "    \"What is the highest mountain in the world?\",\n",
    "    \"Which planet is known as the Red Planet?\",\n",
    "    \"What is the name of the largest ocean on Earth?\"\n",
    "]\n",
    "\n",
    "selected_questions = random.sample(questions, 5)\n",
    "for question in selected_questions:\n",
    "    print(question)\n"
   ]
  },
  {
   "cell_type": "markdown",
   "metadata": {},
   "source": [
    "### Exercise 5: Coin Flip Simulation\n",
    "\n",
    "**Task:** Simulate flipping a coin 100 times and count how many times it lands on \"Heads\" and how many times on \"Tails\".\n",
    "\n",
    "**Steps:**\n",
    "* Use random.choice() with [\"Heads\", \"Tails\"] to simulate each flip.\n",
    "* Store and count the results.\n",
    "* Print the final counts."
   ]
  },
  {
   "cell_type": "code",
   "execution_count": 84,
   "metadata": {
    "trusted": true
   },
   "outputs": [
    {
     "name": "stdout",
     "output_type": "stream",
     "text": [
      "Han salido 54 caras\n",
      "Han salido 46 cruces\n"
     ]
    }
   ],
   "source": [
    "import random\n",
    "\n",
    "resultados = [random.choice([\"Cara\", \"Cruz\"]) for _ in range(100)]\n",
    "caras = 0\n",
    "cruces = 0\n",
    "for i, resultado in enumerate(resultados, start=1):\n",
    "    if resultado==\"Cara\":\n",
    "        caras+=1\n",
    "    else:\n",
    "        cruces+=1\n",
    "\n",
    "print(f\"Han salido {caras} caras\")\n",
    "print(f\"Han salido {cruces} cruces\")\n",
    "\n"
   ]
  },
  {
   "cell_type": "code",
   "execution_count": 85,
   "metadata": {
    "trusted": true
   },
   "outputs": [
    {
     "data": {
      "text/plain": [
       "'abcdefghijklmnopqrstuvwxyzABCDEFGHIJKLMNOPQRSTUVWXYZ'"
      ]
     },
     "execution_count": 85,
     "metadata": {},
     "output_type": "execute_result"
    }
   ],
   "source": [
    "import string\n",
    "string.ascii_letters"
   ]
  },
  {
   "cell_type": "markdown",
   "metadata": {},
   "source": [
    "## Exercise 1: Generate and Log Security Tokens"
   ]
  },
  {
   "cell_type": "markdown",
   "metadata": {},
   "source": [
    "**Context:**\n",
    "In cybersecurity, it's important to generate secure random tokens for user authentication, session management, and API access. These tokens are usually time-sensitive and need to be logged for tracking. The task is to create a Python module that can generate and log security tokens.\n",
    "\n",
    "**Instructions:**\n",
    "\n",
    "* Create a Python module security_token.py that includes the following functionalities:\n",
    "* Generate a Token: Create a function generate_token() that generates a random 16-character alphanumeric string using random and string libraries. The token should consist of uppercase letters, lowercase letters, and digits.\n",
    "* Include Timestamp: The function should return a dictionary containing the token and the current timestamp (using datetime).\n",
    "* Log the Token: The module should include a function log_token() that takes the token and timestamp as inputs and logs them to a text file called token_logs.txt in the format: <br>\n",
    "                            Token: **token**, Time: **timestamp**. <br>\n",
    "  Ensure that log_token() checks if the file exists, and if not, creates it.\n",
    "\n",
    "\n",
    "**Hint**: use string.ascii_uppercase and string.asc"
   ]
  },
  {
   "cell_type": "markdown",
   "metadata": {},
   "source": [
    " ## Exercise 2: Analyze Token Logging Data \n",
    "\n",
    "**Context:**\n",
    "The tokens generated and logged in Exercise 1 will be analyzed for suspicious activity. In cybersecurity, analyzing token logs is essential for detecting potential token-based attacks (e.g., token reuse, token generation timing patterns, etc.).\n",
    "\n",
    "**Instructions:**\n",
    "\n",
    "* **1.Log Analysis Module:** Create a Python module token_analysis.py that does the following:<br>\n",
    "\n",
    "    * *Parse the Logs:* Implement a function parse_logs(file_name) that reads the token_logs.txt file generated by security_token.py. Each entry in the log file has a token and timestamp, separated by a comma. Parse the log file and store the data in a list of dictionaries.\n",
    "        * Each dictionary should contain the token and timestamp.\n",
    "    \n",
    "    *  *Token Analysis:* <br>\n",
    "         \n",
    "        *    Find Duplicate Tokens: Write a function find_duplicates(tokens) that checks if any tokens have been used more than once. This could indicate an issue with token generation or a potential attack.\n",
    "            \n",
    "        * Find Tokens Older than 24 Hours: Write a function find_old_tokens(tokens) that finds any tokens in the log that are older than 24 hours (using the current date and time from datetime). This could help in identifying long-lived, potentially stale tokens.\n",
    "    \n",
    "    * *Generate a Report:* The function generate_report() should summarize the log file's findings:\n",
    "        * How many tokens are older than 24 hours?\n",
    "        \n",
    "        * How many tokens are duplicates?\n",
    "         \n",
    "        * Return the result in a structured format: e.g., \"Tokens older than 24 hours: X, Duplicate tokens: Y\"."
   ]
  },
  {
   "cell_type": "markdown",
   "metadata": {},
   "source": [
    "### Expected Workflow:\n",
    "   \n",
    "   * **Step 1:** The student creates the security_token.py module with functions to generate and log tokens, which are saved to token_logs.txt.\n",
    "   \n",
    "   * **Step 2:** The student then uses the token_analysis.py module to analyze the logs, find duplicates, and check for tokens older than 24 hours.\n",
    "   \n",
    "   * **Step 3:** They produce a summary report of the findings."
   ]
  }
 ],
 "metadata": {
  "kernelspec": {
   "display_name": "Python 3",
   "language": "python",
   "name": "python3"
  },
  "language_info": {
   "codemirror_mode": {
    "name": "ipython",
    "version": 3
   },
   "file_extension": ".py",
   "mimetype": "text/x-python",
   "name": "python",
   "nbconvert_exporter": "python",
   "pygments_lexer": "ipython3",
   "version": "3.12.3"
  }
 },
 "nbformat": 4,
 "nbformat_minor": 4
}
